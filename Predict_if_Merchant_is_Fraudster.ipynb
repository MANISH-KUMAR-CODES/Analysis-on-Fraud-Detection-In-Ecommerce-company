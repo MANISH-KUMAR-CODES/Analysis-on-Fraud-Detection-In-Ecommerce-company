{
  "cells": [
    {
      "cell_type": "markdown",
      "metadata": {
        "colab_type": "text",
        "id": "view-in-github"
      },
      "source": [
        "<a href=\"https://colab.research.google.com/github/MANISH-KUMAR-CODES/Analysis-on-Fraud-Detection-In-Ecommerce-company/blob/main/Predict_if_Merchant_is_Fraudster.ipynb\" target=\"_parent\"><img src=\"https://colab.research.google.com/assets/colab-badge.svg\" alt=\"Open In Colab\"/></a>"
      ]
    },
    {
      "cell_type": "markdown",
      "metadata": {
        "id": "IM0GAsHFfZw5"
      },
      "source": [
        "# **Problem statement**"
      ]
    },
    {
      "cell_type": "markdown",
      "metadata": {
        "id": "I2ta8lwsfOop"
      },
      "source": [
        "‘XYZ’ is a large e-commerce company with its operations in several countries. As the online giant grows, so has\n",
        "the number of fraudster merchants are. They deliver counterfeits or, in some cases, nothing at all. Such\n",
        "schemes leave customers duped, and place both legitimate merchants and the company itself in a constant\n",
        "battle to rid the marketplace of scammers. Determining this is also important in budgeting for fraud\n",
        "investigation. It's a well-known problem both to the company and to merchants, which they say hasn't\n",
        "effectively addressed the issue. They are serious about it and want to protect themselves from these fraudulent\n",
        "merchants using technology.\n",
        "\n",
        "You are expected to create an analytical and modelling framework to predict the Merchant Fraudulency(yes/no)\n",
        "based on the quantitative and qualitative features provided in the dataset while answering other questions too\n",
        "cited below."
      ]
    },
    {
      "cell_type": "markdown",
      "metadata": {
        "id": "RMxznFpqfESM"
      },
      "source": [
        "#  **About Dataset**"
      ]
    },
    {
      "cell_type": "markdown",
      "metadata": {
        "id": "MjCU0vAegIeL"
      },
      "source": [
        "Target attribute: \"fraudster\" (yes – 1, no – 0)\n",
        "\n",
        "Train:\n",
        "\n",
        "   * trainmerchantdata.csv : Merchant Information\n",
        "\n",
        "   * trainorderdata.csv : Order Information\n",
        "\n",
        "   * train.csv : Target Label Information\n",
        "\n",
        "Test:\n",
        "\n",
        "   * testmerchantdata.csv : Merchant Information\n",
        "\n",
        "   * testorderdata.csv : Order Information\n",
        "\n",
        "   * test.csv : Target is not available as it is to be predicted\n",
        "\n",
        "➔ ipboundariescountries.csv : IP addresses boundaries for each country\n",
        "(common for both train and test)   "
      ]
    },
    {
      "cell_type": "markdown",
      "metadata": {
        "id": "SXEHjbkdg03y"
      },
      "source": [
        "# **Tasks**\n",
        "\n",
        "### *Model Building:*\n",
        "\n",
        "You are expected to create an analytical and modelling framework to predict the Merchant Fraudulency based\n",
        "on the quantitative and qualitative features provided in the datasets. You may derive new features from the\n",
        "existing features and also from the domain knowledge, which may help in improving the model efficiency.\n",
        "\n",
        "### *Visualisation task:*\n",
        "\n",
        "Exploratory Data Analysis using visualizations in R Notebook or Jupiter notebook format. (all train data to be\n",
        "used for this task)\n",
        "\n",
        "*  List down the insights/patterns observed from the visualizations\n",
        "*  Explain the impact of most important attributes on target attribute observed from the\n",
        "visualizations.\n",
        "\n",
        "### *Observations:*\n",
        "\n",
        "Is there any overfitting or underfitting problem? If yes, how do you address it?\n",
        "\n",
        "### *Evaluation Metric:*\n",
        "\n",
        "* Consider ‘F1-score’ of the fraudulent class as the error metric for classification task to tune the\n",
        "model and for submissions in the tool.\n",
        "\n",
        "### *Hints*\n",
        "\n",
        "Both Python and R provides functions to convert IP string to numeric format which makes the number\n",
        "comparison easier.\n"
      ]
    },
    {
      "cell_type": "code",
      "execution_count": 89,
      "metadata": {
        "id": "8WQRng-oilNz"
      },
      "outputs": [],
      "source": [
        "# Importi9ng necessary libraries\n",
        "import numpy as np\n",
        "import pandas as pd\n",
        "\n",
        "# 1. Preprocessing Libraries\n",
        "from sklearn import preprocessing\n",
        "from sklearn.impute import SimpleImputer\n",
        "\n",
        "from sklearn.preprocessing import StandardScaler\n",
        "from sklearn.preprocessing import OneHotEncoder    #Dummification\n",
        "from sklearn.model_selection import train_test_split\n",
        "from sklearn.pipeline import Pipeline    #NEW!\n",
        "from sklearn.model_selection import GridSearchCV, cross_val_score, StratifiedKFold    #Hyperparameter tuning, StratifiedKFold\n",
        "# another way to cross-validate\n",
        "from sklearn.compose import ColumnTransformer\n",
        "\n",
        "\n",
        "# 2. Algorithm Import\n",
        "from sklearn.linear_model import LogisticRegression\n",
        "from sklearn.tree import DecisionTreeClassifier\n",
        "from sklearn.svm import SVC\n",
        "from sklearn.ensemble import RandomForestClassifier\n",
        "from sklearn.ensemble import GradientBoostingClassifier\n",
        "\n",
        "# 3. Evaluation Library\n",
        "from sklearn.metrics import confusion_matrix\n",
        "\n",
        "# 4. Viz Lib\n",
        "import matplotlib.pyplot as plt \n",
        "import seaborn as sns\n",
        "\n",
        "# 5. Misc Lib\n",
        "# !pip install imblearn\n",
        "#from imblearn.over_sampling import SMOTE    #Data/Class imbalance\n",
        "import random\n",
        "random.seed(123)\n",
        "import warnings\n",
        "warnings.filterwarnings('ignore')"
      ]
    },
    {
      "cell_type": "code",
      "execution_count": 91,
      "metadata": {
        "colab": {
          "base_uri": "https://localhost:8080/"
        },
        "id": "lgzqcsSAkAfO",
        "outputId": "e1b8300b-d3d1-4cdc-eb91-6d0b6452b662"
      },
      "outputs": [
        {
          "name": "stdout",
          "output_type": "stream",
          "text": [
            "(54213, 7)\n",
            "(54213, 7)\n",
            "(54213, 2)\n"
          ]
        }
      ],
      "source": [
        "#Train Data Reading\n",
        "merchant_train_data = pd.read_csv(\"train_merchant_data-1561627820784.csv\", sep = \",\", header = 0)\n",
        "order_train_data = pd.read_csv(\"train_order_data-1561627847149.csv\", sep = \",\", header = 0)\n",
        "train_data = pd.read_csv(\"train-1561627878332.csv\", sep = \",\", header = 0)\n",
        "print(merchant_train_data.shape)\n",
        "print(order_train_data.shape)\n",
        "print(train_data.shape)\n"
      ]
    },
    {
      "cell_type": "code",
      "execution_count": 92,
      "metadata": {
        "colab": {
          "base_uri": "https://localhost:8080/"
        },
        "id": "noh9hll_kgzt",
        "outputId": "685db63c-f24b-421e-fb6e-8a30a524e971"
      },
      "outputs": [
        {
          "name": "stdout",
          "output_type": "stream",
          "text": [
            "(13554, 7)\n",
            "(13554, 7)\n",
            "(13554, 1)\n"
          ]
        }
      ],
      "source": [
        "#Test Data Reading   \n",
        "merchant_test_data = pd.read_csv(\"test_merchant_data-1561627903902.csv\", sep = \",\", header = 0)\n",
        "order_test_data = pd.read_csv('test_order_data-1561627931868.csv', sep = \",\", header = 0)\n",
        "test_data = pd.read_csv(\"test-1561627952093.csv\", sep = \",\", header = 0)\n",
        "print(merchant_test_data.shape)\n",
        "print(order_test_data.shape)\n",
        "print(test_data.shape)"
      ]
    },
    {
      "cell_type": "markdown",
      "metadata": {
        "id": "yVIuSJtAlbKt"
      },
      "source": [
        "# Understanding our data"
      ]
    },
    {
      "cell_type": "code",
      "execution_count": 93,
      "metadata": {
        "colab": {
          "base_uri": "https://localhost:8080/",
          "height": 206
        },
        "id": "F93cNfeVlRi9",
        "outputId": "9ec40d97-4e28-41e1-8c1c-b01350fa1a17"
      },
      "outputs": [
        {
          "data": {
            "text/html": [
              "<div>\n",
              "<style scoped>\n",
              "    .dataframe tbody tr th:only-of-type {\n",
              "        vertical-align: middle;\n",
              "    }\n",
              "\n",
              "    .dataframe tbody tr th {\n",
              "        vertical-align: top;\n",
              "    }\n",
              "\n",
              "    .dataframe thead th {\n",
              "        text-align: right;\n",
              "    }\n",
              "</style>\n",
              "<table border=\"1\" class=\"dataframe\">\n",
              "  <thead>\n",
              "    <tr style=\"text-align: right;\">\n",
              "      <th></th>\n",
              "      <th>Ecommerce_Provider_ID</th>\n",
              "      <th>Merchant_ID</th>\n",
              "      <th>Merchant_Registration_Date</th>\n",
              "      <th>Registered_Device_ID</th>\n",
              "      <th>Gender</th>\n",
              "      <th>Age</th>\n",
              "      <th>IP_Address</th>\n",
              "    </tr>\n",
              "  </thead>\n",
              "  <tbody>\n",
              "    <tr>\n",
              "      <th>0</th>\n",
              "      <td>1746213</td>\n",
              "      <td>50448</td>\n",
              "      <td>2018-05-01 21:15:11</td>\n",
              "      <td>VATQMMZTVOZUT</td>\n",
              "      <td>F</td>\n",
              "      <td>39</td>\n",
              "      <td>48.151.136.76</td>\n",
              "    </tr>\n",
              "    <tr>\n",
              "      <th>1</th>\n",
              "      <td>1746213</td>\n",
              "      <td>338754</td>\n",
              "      <td>2018-04-14 10:13:00</td>\n",
              "      <td>LJCILLBRQZNKS</td>\n",
              "      <td>M</td>\n",
              "      <td>35</td>\n",
              "      <td>94.9.145.169</td>\n",
              "    </tr>\n",
              "    <tr>\n",
              "      <th>2</th>\n",
              "      <td>1746213</td>\n",
              "      <td>291127</td>\n",
              "      <td>2018-06-20 07:44:22</td>\n",
              "      <td>JFVHSUGKDAYZV</td>\n",
              "      <td>F</td>\n",
              "      <td>40</td>\n",
              "      <td>58.94.157.121</td>\n",
              "    </tr>\n",
              "    <tr>\n",
              "      <th>3</th>\n",
              "      <td>1746213</td>\n",
              "      <td>319919</td>\n",
              "      <td>2018-06-27 01:41:39</td>\n",
              "      <td>WFRXMPLQYXRMY</td>\n",
              "      <td>M</td>\n",
              "      <td>37</td>\n",
              "      <td>193.187.41.186</td>\n",
              "    </tr>\n",
              "    <tr>\n",
              "      <th>4</th>\n",
              "      <td>1746213</td>\n",
              "      <td>195911</td>\n",
              "      <td>2018-01-05 00:55:41</td>\n",
              "      <td>GGHKWMSWHCMID</td>\n",
              "      <td>F</td>\n",
              "      <td>27</td>\n",
              "      <td>125.96.20.172</td>\n",
              "    </tr>\n",
              "  </tbody>\n",
              "</table>\n",
              "</div>"
            ],
            "text/plain": [
              "   Ecommerce_Provider_ID  Merchant_ID Merchant_Registration_Date  \\\n",
              "0                1746213        50448        2018-05-01 21:15:11   \n",
              "1                1746213       338754        2018-04-14 10:13:00   \n",
              "2                1746213       291127        2018-06-20 07:44:22   \n",
              "3                1746213       319919        2018-06-27 01:41:39   \n",
              "4                1746213       195911        2018-01-05 00:55:41   \n",
              "\n",
              "  Registered_Device_ID Gender  Age      IP_Address  \n",
              "0        VATQMMZTVOZUT      F   39   48.151.136.76  \n",
              "1        LJCILLBRQZNKS      M   35    94.9.145.169  \n",
              "2        JFVHSUGKDAYZV      F   40   58.94.157.121  \n",
              "3        WFRXMPLQYXRMY      M   37  193.187.41.186  \n",
              "4        GGHKWMSWHCMID      F   27   125.96.20.172  "
            ]
          },
          "execution_count": 93,
          "metadata": {},
          "output_type": "execute_result"
        }
      ],
      "source": [
        "# quick look at our tainning data\n",
        "a = pd.DataFrame(merchant_train_data)\n",
        "a.head()"
      ]
    },
    {
      "cell_type": "code",
      "execution_count": 94,
      "metadata": {
        "colab": {
          "base_uri": "https://localhost:8080/",
          "height": 206
        },
        "id": "6tGgOpnZl7vL",
        "outputId": "12ddb8bb-024d-4078-c258-e6c91e10453d"
      },
      "outputs": [
        {
          "data": {
            "text/html": [
              "<div>\n",
              "<style scoped>\n",
              "    .dataframe tbody tr th:only-of-type {\n",
              "        vertical-align: middle;\n",
              "    }\n",
              "\n",
              "    .dataframe tbody tr th {\n",
              "        vertical-align: top;\n",
              "    }\n",
              "\n",
              "    .dataframe thead th {\n",
              "        text-align: right;\n",
              "    }\n",
              "</style>\n",
              "<table border=\"1\" class=\"dataframe\">\n",
              "  <thead>\n",
              "    <tr style=\"text-align: right;\">\n",
              "      <th></th>\n",
              "      <th>Customer_ID</th>\n",
              "      <th>Order_ID</th>\n",
              "      <th>Date_of_Order</th>\n",
              "      <th>Order_Value_USD</th>\n",
              "      <th>Order_Source</th>\n",
              "      <th>Order_Payment_Method</th>\n",
              "      <th>Merchant_ID</th>\n",
              "    </tr>\n",
              "  </thead>\n",
              "  <tbody>\n",
              "    <tr>\n",
              "      <th>0</th>\n",
              "      <td>126221</td>\n",
              "      <td>37cea9512f8d</td>\n",
              "      <td>2018-04-29 16:39:26</td>\n",
              "      <td>148</td>\n",
              "      <td>Direct</td>\n",
              "      <td>Credit Card</td>\n",
              "      <td>124231</td>\n",
              "    </tr>\n",
              "    <tr>\n",
              "      <th>1</th>\n",
              "      <td>115471</td>\n",
              "      <td>09f12e6efde2</td>\n",
              "      <td>2018-06-16 17:05:40</td>\n",
              "      <td>145</td>\n",
              "      <td>SEO</td>\n",
              "      <td>Credit Card</td>\n",
              "      <td>136178</td>\n",
              "    </tr>\n",
              "    <tr>\n",
              "      <th>2</th>\n",
              "      <td>151786</td>\n",
              "      <td>4e69e956e159</td>\n",
              "      <td>2018-10-26 18:00:46</td>\n",
              "      <td>62</td>\n",
              "      <td>Ads</td>\n",
              "      <td>Internet Banking</td>\n",
              "      <td>198611</td>\n",
              "    </tr>\n",
              "    <tr>\n",
              "      <th>3</th>\n",
              "      <td>140456</td>\n",
              "      <td>663443aaeb82</td>\n",
              "      <td>2018-12-12 05:41:52</td>\n",
              "      <td>28</td>\n",
              "      <td>SEO</td>\n",
              "      <td>Debit Card</td>\n",
              "      <td>127993</td>\n",
              "    </tr>\n",
              "    <tr>\n",
              "      <th>4</th>\n",
              "      <td>114721</td>\n",
              "      <td>99258810c121</td>\n",
              "      <td>2018-09-20 11:06:10</td>\n",
              "      <td>70</td>\n",
              "      <td>Ads</td>\n",
              "      <td>Credit Card</td>\n",
              "      <td>250146</td>\n",
              "    </tr>\n",
              "  </tbody>\n",
              "</table>\n",
              "</div>"
            ],
            "text/plain": [
              "   Customer_ID      Order_ID        Date_of_Order  Order_Value_USD  \\\n",
              "0       126221  37cea9512f8d  2018-04-29 16:39:26              148   \n",
              "1       115471  09f12e6efde2  2018-06-16 17:05:40              145   \n",
              "2       151786  4e69e956e159  2018-10-26 18:00:46               62   \n",
              "3       140456  663443aaeb82  2018-12-12 05:41:52               28   \n",
              "4       114721  99258810c121  2018-09-20 11:06:10               70   \n",
              "\n",
              "  Order_Source Order_Payment_Method  Merchant_ID  \n",
              "0       Direct          Credit Card       124231  \n",
              "1          SEO          Credit Card       136178  \n",
              "2          Ads     Internet Banking       198611  \n",
              "3          SEO           Debit Card       127993  \n",
              "4          Ads          Credit Card       250146  "
            ]
          },
          "execution_count": 94,
          "metadata": {},
          "output_type": "execute_result"
        }
      ],
      "source": [
        "b= pd.DataFrame(order_train_data)\n",
        "b.head()"
      ]
    },
    {
      "cell_type": "code",
      "execution_count": 95,
      "metadata": {
        "colab": {
          "base_uri": "https://localhost:8080/",
          "height": 206
        },
        "id": "6629YFo-mGNo",
        "outputId": "2128bb4c-2997-4a25-e59c-dfd0447fa963"
      },
      "outputs": [
        {
          "data": {
            "text/html": [
              "<div>\n",
              "<style scoped>\n",
              "    .dataframe tbody tr th:only-of-type {\n",
              "        vertical-align: middle;\n",
              "    }\n",
              "\n",
              "    .dataframe tbody tr th {\n",
              "        vertical-align: top;\n",
              "    }\n",
              "\n",
              "    .dataframe thead th {\n",
              "        text-align: right;\n",
              "    }\n",
              "</style>\n",
              "<table border=\"1\" class=\"dataframe\">\n",
              "  <thead>\n",
              "    <tr style=\"text-align: right;\">\n",
              "      <th></th>\n",
              "      <th>Merchant_ID</th>\n",
              "      <th>Fraudster</th>\n",
              "    </tr>\n",
              "  </thead>\n",
              "  <tbody>\n",
              "    <tr>\n",
              "      <th>0</th>\n",
              "      <td>221592</td>\n",
              "      <td>0</td>\n",
              "    </tr>\n",
              "    <tr>\n",
              "      <th>1</th>\n",
              "      <td>316935</td>\n",
              "      <td>1</td>\n",
              "    </tr>\n",
              "    <tr>\n",
              "      <th>2</th>\n",
              "      <td>38454</td>\n",
              "      <td>1</td>\n",
              "    </tr>\n",
              "    <tr>\n",
              "      <th>3</th>\n",
              "      <td>214437</td>\n",
              "      <td>1</td>\n",
              "    </tr>\n",
              "    <tr>\n",
              "      <th>4</th>\n",
              "      <td>296240</td>\n",
              "      <td>1</td>\n",
              "    </tr>\n",
              "  </tbody>\n",
              "</table>\n",
              "</div>"
            ],
            "text/plain": [
              "   Merchant_ID  Fraudster\n",
              "0       221592          0\n",
              "1       316935          1\n",
              "2        38454          1\n",
              "3       214437          1\n",
              "4       296240          1"
            ]
          },
          "execution_count": 95,
          "metadata": {},
          "output_type": "execute_result"
        }
      ],
      "source": [
        "c = pd.DataFrame(train_data)\n",
        "c.head()"
      ]
    },
    {
      "cell_type": "code",
      "execution_count": 96,
      "metadata": {
        "colab": {
          "base_uri": "https://localhost:8080/",
          "height": 357
        },
        "id": "zieq2c01mcpG",
        "outputId": "18041a54-638c-42c6-cbf1-6b5589c4c278"
      },
      "outputs": [
        {
          "data": {
            "text/html": [
              "<div>\n",
              "<style scoped>\n",
              "    .dataframe tbody tr th:only-of-type {\n",
              "        vertical-align: middle;\n",
              "    }\n",
              "\n",
              "    .dataframe tbody tr th {\n",
              "        vertical-align: top;\n",
              "    }\n",
              "\n",
              "    .dataframe thead th {\n",
              "        text-align: right;\n",
              "    }\n",
              "</style>\n",
              "<table border=\"1\" class=\"dataframe\">\n",
              "  <thead>\n",
              "    <tr style=\"text-align: right;\">\n",
              "      <th></th>\n",
              "      <th>Ecommerce_Provider_ID</th>\n",
              "      <th>Merchant_ID</th>\n",
              "      <th>Merchant_Registration_Date</th>\n",
              "      <th>Registered_Device_ID</th>\n",
              "      <th>Gender</th>\n",
              "      <th>Age</th>\n",
              "      <th>IP_Address</th>\n",
              "      <th>Customer_ID</th>\n",
              "      <th>Order_ID</th>\n",
              "      <th>Date_of_Order</th>\n",
              "      <th>Order_Value_USD</th>\n",
              "      <th>Order_Source</th>\n",
              "      <th>Order_Payment_Method</th>\n",
              "      <th>Fraudster</th>\n",
              "    </tr>\n",
              "  </thead>\n",
              "  <tbody>\n",
              "    <tr>\n",
              "      <th>0</th>\n",
              "      <td>1746213</td>\n",
              "      <td>50448</td>\n",
              "      <td>2018-05-01 21:15:11</td>\n",
              "      <td>VATQMMZTVOZUT</td>\n",
              "      <td>F</td>\n",
              "      <td>39</td>\n",
              "      <td>48.151.136.76</td>\n",
              "      <td>129697</td>\n",
              "      <td>3b8983a83c7b</td>\n",
              "      <td>2018-07-30 10:59:13</td>\n",
              "      <td>90</td>\n",
              "      <td>SEO</td>\n",
              "      <td>Debit Card</td>\n",
              "      <td>0</td>\n",
              "    </tr>\n",
              "    <tr>\n",
              "      <th>1</th>\n",
              "      <td>1746213</td>\n",
              "      <td>338754</td>\n",
              "      <td>2018-04-14 10:13:00</td>\n",
              "      <td>LJCILLBRQZNKS</td>\n",
              "      <td>M</td>\n",
              "      <td>35</td>\n",
              "      <td>94.9.145.169</td>\n",
              "      <td>117390</td>\n",
              "      <td>34b5eb921228</td>\n",
              "      <td>2018-06-15 11:19:47</td>\n",
              "      <td>98</td>\n",
              "      <td>SEO</td>\n",
              "      <td>Internet Banking</td>\n",
              "      <td>0</td>\n",
              "    </tr>\n",
              "    <tr>\n",
              "      <th>2</th>\n",
              "      <td>1746213</td>\n",
              "      <td>291127</td>\n",
              "      <td>2018-06-20 07:44:22</td>\n",
              "      <td>JFVHSUGKDAYZV</td>\n",
              "      <td>F</td>\n",
              "      <td>40</td>\n",
              "      <td>58.94.157.121</td>\n",
              "      <td>120162</td>\n",
              "      <td>41a1c86ff08b</td>\n",
              "      <td>2018-08-13 10:06:26</td>\n",
              "      <td>95</td>\n",
              "      <td>SEO</td>\n",
              "      <td>Credit Card</td>\n",
              "      <td>0</td>\n",
              "    </tr>\n",
              "    <tr>\n",
              "      <th>3</th>\n",
              "      <td>1746213</td>\n",
              "      <td>319919</td>\n",
              "      <td>2018-06-27 01:41:39</td>\n",
              "      <td>WFRXMPLQYXRMY</td>\n",
              "      <td>M</td>\n",
              "      <td>37</td>\n",
              "      <td>193.187.41.186</td>\n",
              "      <td>128228</td>\n",
              "      <td>e8c3ad80d916</td>\n",
              "      <td>2018-07-22 15:46:51</td>\n",
              "      <td>100</td>\n",
              "      <td>Direct</td>\n",
              "      <td>E-wallet</td>\n",
              "      <td>0</td>\n",
              "    </tr>\n",
              "    <tr>\n",
              "      <th>4</th>\n",
              "      <td>1746213</td>\n",
              "      <td>195911</td>\n",
              "      <td>2018-01-05 00:55:41</td>\n",
              "      <td>GGHKWMSWHCMID</td>\n",
              "      <td>F</td>\n",
              "      <td>27</td>\n",
              "      <td>125.96.20.172</td>\n",
              "      <td>136029</td>\n",
              "      <td>e71ab1f26785</td>\n",
              "      <td>2018-04-16 08:02:44</td>\n",
              "      <td>78</td>\n",
              "      <td>SEO</td>\n",
              "      <td>E-wallet</td>\n",
              "      <td>0</td>\n",
              "    </tr>\n",
              "  </tbody>\n",
              "</table>\n",
              "</div>"
            ],
            "text/plain": [
              "   Ecommerce_Provider_ID  Merchant_ID Merchant_Registration_Date  \\\n",
              "0                1746213        50448        2018-05-01 21:15:11   \n",
              "1                1746213       338754        2018-04-14 10:13:00   \n",
              "2                1746213       291127        2018-06-20 07:44:22   \n",
              "3                1746213       319919        2018-06-27 01:41:39   \n",
              "4                1746213       195911        2018-01-05 00:55:41   \n",
              "\n",
              "  Registered_Device_ID Gender  Age      IP_Address  Customer_ID      Order_ID  \\\n",
              "0        VATQMMZTVOZUT      F   39   48.151.136.76       129697  3b8983a83c7b   \n",
              "1        LJCILLBRQZNKS      M   35    94.9.145.169       117390  34b5eb921228   \n",
              "2        JFVHSUGKDAYZV      F   40   58.94.157.121       120162  41a1c86ff08b   \n",
              "3        WFRXMPLQYXRMY      M   37  193.187.41.186       128228  e8c3ad80d916   \n",
              "4        GGHKWMSWHCMID      F   27   125.96.20.172       136029  e71ab1f26785   \n",
              "\n",
              "         Date_of_Order  Order_Value_USD Order_Source Order_Payment_Method  \\\n",
              "0  2018-07-30 10:59:13               90          SEO           Debit Card   \n",
              "1  2018-06-15 11:19:47               98          SEO     Internet Banking   \n",
              "2  2018-08-13 10:06:26               95          SEO          Credit Card   \n",
              "3  2018-07-22 15:46:51              100       Direct             E-wallet   \n",
              "4  2018-04-16 08:02:44               78          SEO             E-wallet   \n",
              "\n",
              "   Fraudster  \n",
              "0          0  \n",
              "1          0  \n",
              "2          0  \n",
              "3          0  \n",
              "4          0  "
            ]
          },
          "execution_count": 96,
          "metadata": {},
          "output_type": "execute_result"
        }
      ],
      "source": [
        "# lets merge all three dataframe on common columns and get a complete dataframe\n",
        "a = a.merge(b,on = 'Merchant_ID', how='outer')\n",
        "train_df = a.merge(c,on = 'Merchant_ID', how ='outer')\n",
        "train_df.head()\n"
      ]
    },
    {
      "cell_type": "code",
      "execution_count": 97,
      "metadata": {
        "colab": {
          "base_uri": "https://localhost:8080/"
        },
        "id": "Z1taBKiAomkX",
        "outputId": "02eb106b-5ee8-40fb-b07c-b4d889ba7f27"
      },
      "outputs": [
        {
          "name": "stdout",
          "output_type": "stream",
          "text": [
            "(54213, 14) \n",
            "\n",
            "Ecommerce_Provider_ID          int64\n",
            "Merchant_ID                    int64\n",
            "Merchant_Registration_Date    object\n",
            "Registered_Device_ID          object\n",
            "Gender                        object\n",
            "Age                            int64\n",
            "IP_Address                    object\n",
            "Customer_ID                    int64\n",
            "Order_ID                      object\n",
            "Date_of_Order                 object\n",
            "Order_Value_USD                int64\n",
            "Order_Source                  object\n",
            "Order_Payment_Method          object\n",
            "Fraudster                      int64\n",
            "dtype: object\n"
          ]
        }
      ],
      "source": [
        "print(train_df.shape, '\\n')\n",
        "print(train_df.dtypes)"
      ]
    },
    {
      "cell_type": "code",
      "execution_count": 98,
      "metadata": {
        "colab": {
          "base_uri": "https://localhost:8080/",
          "height": 300
        },
        "id": "pCPK4IpZpOxM",
        "outputId": "cd86f798-60fa-408c-bc22-341a660b3fd7"
      },
      "outputs": [
        {
          "data": {
            "text/html": [
              "<div>\n",
              "<style scoped>\n",
              "    .dataframe tbody tr th:only-of-type {\n",
              "        vertical-align: middle;\n",
              "    }\n",
              "\n",
              "    .dataframe tbody tr th {\n",
              "        vertical-align: top;\n",
              "    }\n",
              "\n",
              "    .dataframe thead th {\n",
              "        text-align: right;\n",
              "    }\n",
              "</style>\n",
              "<table border=\"1\" class=\"dataframe\">\n",
              "  <thead>\n",
              "    <tr style=\"text-align: right;\">\n",
              "      <th></th>\n",
              "      <th>Ecommerce_Provider_ID</th>\n",
              "      <th>Merchant_ID</th>\n",
              "      <th>Age</th>\n",
              "      <th>Customer_ID</th>\n",
              "      <th>Order_Value_USD</th>\n",
              "      <th>Fraudster</th>\n",
              "    </tr>\n",
              "  </thead>\n",
              "  <tbody>\n",
              "    <tr>\n",
              "      <th>count</th>\n",
              "      <td>54213.0</td>\n",
              "      <td>54213.000000</td>\n",
              "      <td>54213.000000</td>\n",
              "      <td>54213.000000</td>\n",
              "      <td>54213.000000</td>\n",
              "      <td>54213.00000</td>\n",
              "    </tr>\n",
              "    <tr>\n",
              "      <th>mean</th>\n",
              "      <td>1746213.0</td>\n",
              "      <td>200395.176212</td>\n",
              "      <td>33.122240</td>\n",
              "      <td>137966.285208</td>\n",
              "      <td>92.230240</td>\n",
              "      <td>0.09269</td>\n",
              "    </tr>\n",
              "    <tr>\n",
              "      <th>std</th>\n",
              "      <td>0.0</td>\n",
              "      <td>115398.486895</td>\n",
              "      <td>8.630091</td>\n",
              "      <td>15563.516156</td>\n",
              "      <td>45.673263</td>\n",
              "      <td>0.29000</td>\n",
              "    </tr>\n",
              "    <tr>\n",
              "      <th>min</th>\n",
              "      <td>1746213.0</td>\n",
              "      <td>2.000000</td>\n",
              "      <td>18.000000</td>\n",
              "      <td>111234.000000</td>\n",
              "      <td>22.000000</td>\n",
              "      <td>0.00000</td>\n",
              "    </tr>\n",
              "    <tr>\n",
              "      <th>25%</th>\n",
              "      <td>1746213.0</td>\n",
              "      <td>100997.000000</td>\n",
              "      <td>27.000000</td>\n",
              "      <td>124471.000000</td>\n",
              "      <td>55.000000</td>\n",
              "      <td>0.00000</td>\n",
              "    </tr>\n",
              "    <tr>\n",
              "      <th>50%</th>\n",
              "      <td>1746213.0</td>\n",
              "      <td>200574.000000</td>\n",
              "      <td>32.000000</td>\n",
              "      <td>137864.000000</td>\n",
              "      <td>88.000000</td>\n",
              "      <td>0.00000</td>\n",
              "    </tr>\n",
              "    <tr>\n",
              "      <th>75%</th>\n",
              "      <td>1746213.0</td>\n",
              "      <td>300407.000000</td>\n",
              "      <td>39.000000</td>\n",
              "      <td>151405.000000</td>\n",
              "      <td>122.000000</td>\n",
              "      <td>0.00000</td>\n",
              "    </tr>\n",
              "    <tr>\n",
              "      <th>max</th>\n",
              "      <td>1746213.0</td>\n",
              "      <td>399993.000000</td>\n",
              "      <td>72.000000</td>\n",
              "      <td>165000.000000</td>\n",
              "      <td>385.000000</td>\n",
              "      <td>1.00000</td>\n",
              "    </tr>\n",
              "  </tbody>\n",
              "</table>\n",
              "</div>"
            ],
            "text/plain": [
              "       Ecommerce_Provider_ID    Merchant_ID           Age    Customer_ID  \\\n",
              "count                54213.0   54213.000000  54213.000000   54213.000000   \n",
              "mean               1746213.0  200395.176212     33.122240  137966.285208   \n",
              "std                      0.0  115398.486895      8.630091   15563.516156   \n",
              "min                1746213.0       2.000000     18.000000  111234.000000   \n",
              "25%                1746213.0  100997.000000     27.000000  124471.000000   \n",
              "50%                1746213.0  200574.000000     32.000000  137864.000000   \n",
              "75%                1746213.0  300407.000000     39.000000  151405.000000   \n",
              "max                1746213.0  399993.000000     72.000000  165000.000000   \n",
              "\n",
              "       Order_Value_USD    Fraudster  \n",
              "count     54213.000000  54213.00000  \n",
              "mean         92.230240      0.09269  \n",
              "std          45.673263      0.29000  \n",
              "min          22.000000      0.00000  \n",
              "25%          55.000000      0.00000  \n",
              "50%          88.000000      0.00000  \n",
              "75%         122.000000      0.00000  \n",
              "max         385.000000      1.00000  "
            ]
          },
          "execution_count": 98,
          "metadata": {},
          "output_type": "execute_result"
        }
      ],
      "source": [
        "# checking description of integer columns\n",
        "train_df.describe(include = 'int')"
      ]
    },
    {
      "cell_type": "code",
      "execution_count": 99,
      "metadata": {
        "colab": {
          "base_uri": "https://localhost:8080/",
          "height": 175
        },
        "id": "BTL_8ItApW7U",
        "outputId": "8fcdc4b5-459f-4b7d-cd61-326b785e7ff7"
      },
      "outputs": [
        {
          "data": {
            "text/html": [
              "<div>\n",
              "<style scoped>\n",
              "    .dataframe tbody tr th:only-of-type {\n",
              "        vertical-align: middle;\n",
              "    }\n",
              "\n",
              "    .dataframe tbody tr th {\n",
              "        vertical-align: top;\n",
              "    }\n",
              "\n",
              "    .dataframe thead th {\n",
              "        text-align: right;\n",
              "    }\n",
              "</style>\n",
              "<table border=\"1\" class=\"dataframe\">\n",
              "  <thead>\n",
              "    <tr style=\"text-align: right;\">\n",
              "      <th></th>\n",
              "      <th>Merchant_Registration_Date</th>\n",
              "      <th>Registered_Device_ID</th>\n",
              "      <th>Gender</th>\n",
              "      <th>IP_Address</th>\n",
              "      <th>Order_ID</th>\n",
              "      <th>Date_of_Order</th>\n",
              "      <th>Order_Source</th>\n",
              "      <th>Order_Payment_Method</th>\n",
              "    </tr>\n",
              "  </thead>\n",
              "  <tbody>\n",
              "    <tr>\n",
              "      <th>count</th>\n",
              "      <td>54213</td>\n",
              "      <td>54213</td>\n",
              "      <td>54213</td>\n",
              "      <td>54213</td>\n",
              "      <td>54213</td>\n",
              "      <td>54213</td>\n",
              "      <td>54213</td>\n",
              "      <td>54213</td>\n",
              "    </tr>\n",
              "    <tr>\n",
              "      <th>unique</th>\n",
              "      <td>54213</td>\n",
              "      <td>51291</td>\n",
              "      <td>2</td>\n",
              "      <td>52028</td>\n",
              "      <td>54213</td>\n",
              "      <td>54161</td>\n",
              "      <td>3</td>\n",
              "      <td>5</td>\n",
              "    </tr>\n",
              "    <tr>\n",
              "      <th>top</th>\n",
              "      <td>2018-05-01 21:15:11</td>\n",
              "      <td>RJEAMRBBMPWEA</td>\n",
              "      <td>M</td>\n",
              "      <td>91.161.239.48</td>\n",
              "      <td>3b8983a83c7b</td>\n",
              "      <td>2018-08-01 01:24:54</td>\n",
              "      <td>SEO</td>\n",
              "      <td>Credit Card</td>\n",
              "    </tr>\n",
              "    <tr>\n",
              "      <th>freq</th>\n",
              "      <td>1</td>\n",
              "      <td>9</td>\n",
              "      <td>31761</td>\n",
              "      <td>9</td>\n",
              "      <td>1</td>\n",
              "      <td>2</td>\n",
              "      <td>21884</td>\n",
              "      <td>21844</td>\n",
              "    </tr>\n",
              "  </tbody>\n",
              "</table>\n",
              "</div>"
            ],
            "text/plain": [
              "       Merchant_Registration_Date Registered_Device_ID Gender     IP_Address  \\\n",
              "count                       54213                54213  54213          54213   \n",
              "unique                      54213                51291      2          52028   \n",
              "top           2018-05-01 21:15:11        RJEAMRBBMPWEA      M  91.161.239.48   \n",
              "freq                            1                    9  31761              9   \n",
              "\n",
              "            Order_ID        Date_of_Order Order_Source Order_Payment_Method  \n",
              "count          54213                54213        54213                54213  \n",
              "unique         54213                54161            3                    5  \n",
              "top     3b8983a83c7b  2018-08-01 01:24:54          SEO          Credit Card  \n",
              "freq               1                    2        21884                21844  "
            ]
          },
          "execution_count": 99,
          "metadata": {},
          "output_type": "execute_result"
        }
      ],
      "source": [
        "# checking description of category columns\n",
        "train_df.describe(include = 'object')"
      ]
    },
    {
      "cell_type": "code",
      "execution_count": 100,
      "metadata": {
        "colab": {
          "base_uri": "https://localhost:8080/",
          "height": 206
        },
        "id": "U6Ww6cBSpPix",
        "outputId": "bfb7154c-fd3d-40b1-a814-701cff60a632"
      },
      "outputs": [
        {
          "data": {
            "text/html": [
              "<div>\n",
              "<style scoped>\n",
              "    .dataframe tbody tr th:only-of-type {\n",
              "        vertical-align: middle;\n",
              "    }\n",
              "\n",
              "    .dataframe tbody tr th {\n",
              "        vertical-align: top;\n",
              "    }\n",
              "\n",
              "    .dataframe thead th {\n",
              "        text-align: right;\n",
              "    }\n",
              "</style>\n",
              "<table border=\"1\" class=\"dataframe\">\n",
              "  <thead>\n",
              "    <tr style=\"text-align: right;\">\n",
              "      <th></th>\n",
              "      <th>Ecommerce_Provider_ID</th>\n",
              "      <th>Merchant_ID</th>\n",
              "      <th>Merchant_Registration_Date</th>\n",
              "      <th>Registered_Device_ID</th>\n",
              "      <th>Gender</th>\n",
              "      <th>Age</th>\n",
              "      <th>IP_Address</th>\n",
              "    </tr>\n",
              "  </thead>\n",
              "  <tbody>\n",
              "    <tr>\n",
              "      <th>0</th>\n",
              "      <td>1746213</td>\n",
              "      <td>53637</td>\n",
              "      <td>2018-02-11 20:50:29</td>\n",
              "      <td>PTMLBENYMQCTV</td>\n",
              "      <td>F</td>\n",
              "      <td>40</td>\n",
              "      <td>134.162.124.62</td>\n",
              "    </tr>\n",
              "    <tr>\n",
              "      <th>1</th>\n",
              "      <td>1746213</td>\n",
              "      <td>243517</td>\n",
              "      <td>2018-04-06 13:19:39</td>\n",
              "      <td>HMCLDZUZPWZRR</td>\n",
              "      <td>M</td>\n",
              "      <td>39</td>\n",
              "      <td>152.76.98.87</td>\n",
              "    </tr>\n",
              "    <tr>\n",
              "      <th>2</th>\n",
              "      <td>1746213</td>\n",
              "      <td>343640</td>\n",
              "      <td>2018-01-12 16:47:49</td>\n",
              "      <td>VLGSMAPXISSEJ</td>\n",
              "      <td>M</td>\n",
              "      <td>23</td>\n",
              "      <td>31.202.3.255</td>\n",
              "    </tr>\n",
              "    <tr>\n",
              "      <th>3</th>\n",
              "      <td>1746213</td>\n",
              "      <td>69889</td>\n",
              "      <td>2018-02-19 21:58:52</td>\n",
              "      <td>ZINHISBBOKQXT</td>\n",
              "      <td>M</td>\n",
              "      <td>34</td>\n",
              "      <td>12.242.168.185</td>\n",
              "    </tr>\n",
              "    <tr>\n",
              "      <th>4</th>\n",
              "      <td>1746213</td>\n",
              "      <td>125706</td>\n",
              "      <td>2018-05-17 15:50:19</td>\n",
              "      <td>WFKEAOTPHTYEO</td>\n",
              "      <td>M</td>\n",
              "      <td>20</td>\n",
              "      <td>26.61.210.47</td>\n",
              "    </tr>\n",
              "  </tbody>\n",
              "</table>\n",
              "</div>"
            ],
            "text/plain": [
              "   Ecommerce_Provider_ID  Merchant_ID Merchant_Registration_Date  \\\n",
              "0                1746213        53637        2018-02-11 20:50:29   \n",
              "1                1746213       243517        2018-04-06 13:19:39   \n",
              "2                1746213       343640        2018-01-12 16:47:49   \n",
              "3                1746213        69889        2018-02-19 21:58:52   \n",
              "4                1746213       125706        2018-05-17 15:50:19   \n",
              "\n",
              "  Registered_Device_ID Gender  Age      IP_Address  \n",
              "0        PTMLBENYMQCTV      F   40  134.162.124.62  \n",
              "1        HMCLDZUZPWZRR      M   39    152.76.98.87  \n",
              "2        VLGSMAPXISSEJ      M   23    31.202.3.255  \n",
              "3        ZINHISBBOKQXT      M   34  12.242.168.185  \n",
              "4        WFKEAOTPHTYEO      M   20    26.61.210.47  "
            ]
          },
          "execution_count": 100,
          "metadata": {},
          "output_type": "execute_result"
        }
      ],
      "source": [
        "# Quick look at our test data\n",
        "a1 = pd.DataFrame(merchant_test_data)\n",
        "a1.head()"
      ]
    },
    {
      "cell_type": "code",
      "execution_count": 101,
      "metadata": {
        "colab": {
          "base_uri": "https://localhost:8080/",
          "height": 206
        },
        "id": "7wnUwM1apevA",
        "outputId": "568c2897-dc70-4cae-e2f4-68a4cd59b5b6"
      },
      "outputs": [
        {
          "data": {
            "text/html": [
              "<div>\n",
              "<style scoped>\n",
              "    .dataframe tbody tr th:only-of-type {\n",
              "        vertical-align: middle;\n",
              "    }\n",
              "\n",
              "    .dataframe tbody tr th {\n",
              "        vertical-align: top;\n",
              "    }\n",
              "\n",
              "    .dataframe thead th {\n",
              "        text-align: right;\n",
              "    }\n",
              "</style>\n",
              "<table border=\"1\" class=\"dataframe\">\n",
              "  <thead>\n",
              "    <tr style=\"text-align: right;\">\n",
              "      <th></th>\n",
              "      <th>Customer_ID</th>\n",
              "      <th>Order_ID</th>\n",
              "      <th>Date_of_Order</th>\n",
              "      <th>Order_Value_USD</th>\n",
              "      <th>Order_Source</th>\n",
              "      <th>Order_Payment_Method</th>\n",
              "      <th>Merchant_ID</th>\n",
              "    </tr>\n",
              "  </thead>\n",
              "  <tbody>\n",
              "    <tr>\n",
              "      <th>0</th>\n",
              "      <td>157068</td>\n",
              "      <td>a032de091f51</td>\n",
              "      <td>2018-03-09 09:09:42</td>\n",
              "      <td>60</td>\n",
              "      <td>SEO</td>\n",
              "      <td>Credit Card</td>\n",
              "      <td>53637</td>\n",
              "    </tr>\n",
              "    <tr>\n",
              "      <th>1</th>\n",
              "      <td>112534</td>\n",
              "      <td>0d563f0606d6</td>\n",
              "      <td>2018-06-13 20:11:19</td>\n",
              "      <td>28</td>\n",
              "      <td>SEO</td>\n",
              "      <td>Credit Card</td>\n",
              "      <td>243517</td>\n",
              "    </tr>\n",
              "    <tr>\n",
              "      <th>2</th>\n",
              "      <td>148774</td>\n",
              "      <td>18fb0fa888b6</td>\n",
              "      <td>2018-04-14 04:19:36</td>\n",
              "      <td>75</td>\n",
              "      <td>Ads</td>\n",
              "      <td>Debit Card</td>\n",
              "      <td>343640</td>\n",
              "    </tr>\n",
              "    <tr>\n",
              "      <th>3</th>\n",
              "      <td>114528</td>\n",
              "      <td>ed1eb920d721</td>\n",
              "      <td>2018-04-01 13:55:44</td>\n",
              "      <td>98</td>\n",
              "      <td>SEO</td>\n",
              "      <td>Credit Card</td>\n",
              "      <td>69889</td>\n",
              "    </tr>\n",
              "    <tr>\n",
              "      <th>4</th>\n",
              "      <td>120940</td>\n",
              "      <td>313dcf962627</td>\n",
              "      <td>2018-05-25 02:08:18</td>\n",
              "      <td>35</td>\n",
              "      <td>SEO</td>\n",
              "      <td>Credit Card</td>\n",
              "      <td>125706</td>\n",
              "    </tr>\n",
              "  </tbody>\n",
              "</table>\n",
              "</div>"
            ],
            "text/plain": [
              "   Customer_ID      Order_ID        Date_of_Order  Order_Value_USD  \\\n",
              "0       157068  a032de091f51  2018-03-09 09:09:42               60   \n",
              "1       112534  0d563f0606d6  2018-06-13 20:11:19               28   \n",
              "2       148774  18fb0fa888b6  2018-04-14 04:19:36               75   \n",
              "3       114528  ed1eb920d721  2018-04-01 13:55:44               98   \n",
              "4       120940  313dcf962627  2018-05-25 02:08:18               35   \n",
              "\n",
              "  Order_Source Order_Payment_Method  Merchant_ID  \n",
              "0          SEO          Credit Card        53637  \n",
              "1          SEO          Credit Card       243517  \n",
              "2          Ads           Debit Card       343640  \n",
              "3          SEO          Credit Card        69889  \n",
              "4          SEO          Credit Card       125706  "
            ]
          },
          "execution_count": 101,
          "metadata": {},
          "output_type": "execute_result"
        }
      ],
      "source": [
        "b1 = pd.DataFrame(order_test_data)\n",
        "b1.head()"
      ]
    },
    {
      "cell_type": "code",
      "execution_count": 102,
      "metadata": {
        "colab": {
          "base_uri": "https://localhost:8080/",
          "height": 206
        },
        "id": "f1LkgmYBplEG",
        "outputId": "62cafa44-06ec-4d72-8857-b4f90b66c898"
      },
      "outputs": [
        {
          "data": {
            "text/html": [
              "<div>\n",
              "<style scoped>\n",
              "    .dataframe tbody tr th:only-of-type {\n",
              "        vertical-align: middle;\n",
              "    }\n",
              "\n",
              "    .dataframe tbody tr th {\n",
              "        vertical-align: top;\n",
              "    }\n",
              "\n",
              "    .dataframe thead th {\n",
              "        text-align: right;\n",
              "    }\n",
              "</style>\n",
              "<table border=\"1\" class=\"dataframe\">\n",
              "  <thead>\n",
              "    <tr style=\"text-align: right;\">\n",
              "      <th></th>\n",
              "      <th>Merchant_ID</th>\n",
              "    </tr>\n",
              "  </thead>\n",
              "  <tbody>\n",
              "    <tr>\n",
              "      <th>0</th>\n",
              "      <td>53637</td>\n",
              "    </tr>\n",
              "    <tr>\n",
              "      <th>1</th>\n",
              "      <td>243517</td>\n",
              "    </tr>\n",
              "    <tr>\n",
              "      <th>2</th>\n",
              "      <td>343640</td>\n",
              "    </tr>\n",
              "    <tr>\n",
              "      <th>3</th>\n",
              "      <td>69889</td>\n",
              "    </tr>\n",
              "    <tr>\n",
              "      <th>4</th>\n",
              "      <td>125706</td>\n",
              "    </tr>\n",
              "  </tbody>\n",
              "</table>\n",
              "</div>"
            ],
            "text/plain": [
              "   Merchant_ID\n",
              "0        53637\n",
              "1       243517\n",
              "2       343640\n",
              "3        69889\n",
              "4       125706"
            ]
          },
          "execution_count": 102,
          "metadata": {},
          "output_type": "execute_result"
        }
      ],
      "source": [
        "c1 = pd.DataFrame(test_data)\n",
        "c1.head()"
      ]
    },
    {
      "cell_type": "code",
      "execution_count": 103,
      "metadata": {
        "colab": {
          "base_uri": "https://localhost:8080/",
          "height": 357
        },
        "id": "OHRvZ6-1qtru",
        "outputId": "f8596ced-0001-4b83-9f29-5efca92bd97d"
      },
      "outputs": [
        {
          "data": {
            "text/html": [
              "<div>\n",
              "<style scoped>\n",
              "    .dataframe tbody tr th:only-of-type {\n",
              "        vertical-align: middle;\n",
              "    }\n",
              "\n",
              "    .dataframe tbody tr th {\n",
              "        vertical-align: top;\n",
              "    }\n",
              "\n",
              "    .dataframe thead th {\n",
              "        text-align: right;\n",
              "    }\n",
              "</style>\n",
              "<table border=\"1\" class=\"dataframe\">\n",
              "  <thead>\n",
              "    <tr style=\"text-align: right;\">\n",
              "      <th></th>\n",
              "      <th>Ecommerce_Provider_ID</th>\n",
              "      <th>Merchant_ID</th>\n",
              "      <th>Merchant_Registration_Date</th>\n",
              "      <th>Registered_Device_ID</th>\n",
              "      <th>Gender</th>\n",
              "      <th>Age</th>\n",
              "      <th>IP_Address</th>\n",
              "      <th>Customer_ID</th>\n",
              "      <th>Order_ID</th>\n",
              "      <th>Date_of_Order</th>\n",
              "      <th>Order_Value_USD</th>\n",
              "      <th>Order_Source</th>\n",
              "      <th>Order_Payment_Method</th>\n",
              "    </tr>\n",
              "  </thead>\n",
              "  <tbody>\n",
              "    <tr>\n",
              "      <th>0</th>\n",
              "      <td>1746213</td>\n",
              "      <td>53637</td>\n",
              "      <td>2018-02-11 20:50:29</td>\n",
              "      <td>PTMLBENYMQCTV</td>\n",
              "      <td>F</td>\n",
              "      <td>40</td>\n",
              "      <td>134.162.124.62</td>\n",
              "      <td>157068</td>\n",
              "      <td>a032de091f51</td>\n",
              "      <td>2018-03-09 09:09:42</td>\n",
              "      <td>60</td>\n",
              "      <td>SEO</td>\n",
              "      <td>Credit Card</td>\n",
              "    </tr>\n",
              "    <tr>\n",
              "      <th>1</th>\n",
              "      <td>1746213</td>\n",
              "      <td>243517</td>\n",
              "      <td>2018-04-06 13:19:39</td>\n",
              "      <td>HMCLDZUZPWZRR</td>\n",
              "      <td>M</td>\n",
              "      <td>39</td>\n",
              "      <td>152.76.98.87</td>\n",
              "      <td>112534</td>\n",
              "      <td>0d563f0606d6</td>\n",
              "      <td>2018-06-13 20:11:19</td>\n",
              "      <td>28</td>\n",
              "      <td>SEO</td>\n",
              "      <td>Credit Card</td>\n",
              "    </tr>\n",
              "    <tr>\n",
              "      <th>2</th>\n",
              "      <td>1746213</td>\n",
              "      <td>343640</td>\n",
              "      <td>2018-01-12 16:47:49</td>\n",
              "      <td>VLGSMAPXISSEJ</td>\n",
              "      <td>M</td>\n",
              "      <td>23</td>\n",
              "      <td>31.202.3.255</td>\n",
              "      <td>148774</td>\n",
              "      <td>18fb0fa888b6</td>\n",
              "      <td>2018-04-14 04:19:36</td>\n",
              "      <td>75</td>\n",
              "      <td>Ads</td>\n",
              "      <td>Debit Card</td>\n",
              "    </tr>\n",
              "    <tr>\n",
              "      <th>3</th>\n",
              "      <td>1746213</td>\n",
              "      <td>69889</td>\n",
              "      <td>2018-02-19 21:58:52</td>\n",
              "      <td>ZINHISBBOKQXT</td>\n",
              "      <td>M</td>\n",
              "      <td>34</td>\n",
              "      <td>12.242.168.185</td>\n",
              "      <td>114528</td>\n",
              "      <td>ed1eb920d721</td>\n",
              "      <td>2018-04-01 13:55:44</td>\n",
              "      <td>98</td>\n",
              "      <td>SEO</td>\n",
              "      <td>Credit Card</td>\n",
              "    </tr>\n",
              "    <tr>\n",
              "      <th>4</th>\n",
              "      <td>1746213</td>\n",
              "      <td>125706</td>\n",
              "      <td>2018-05-17 15:50:19</td>\n",
              "      <td>WFKEAOTPHTYEO</td>\n",
              "      <td>M</td>\n",
              "      <td>20</td>\n",
              "      <td>26.61.210.47</td>\n",
              "      <td>120940</td>\n",
              "      <td>313dcf962627</td>\n",
              "      <td>2018-05-25 02:08:18</td>\n",
              "      <td>35</td>\n",
              "      <td>SEO</td>\n",
              "      <td>Credit Card</td>\n",
              "    </tr>\n",
              "  </tbody>\n",
              "</table>\n",
              "</div>"
            ],
            "text/plain": [
              "   Ecommerce_Provider_ID  Merchant_ID Merchant_Registration_Date  \\\n",
              "0                1746213        53637        2018-02-11 20:50:29   \n",
              "1                1746213       243517        2018-04-06 13:19:39   \n",
              "2                1746213       343640        2018-01-12 16:47:49   \n",
              "3                1746213        69889        2018-02-19 21:58:52   \n",
              "4                1746213       125706        2018-05-17 15:50:19   \n",
              "\n",
              "  Registered_Device_ID Gender  Age      IP_Address  Customer_ID      Order_ID  \\\n",
              "0        PTMLBENYMQCTV      F   40  134.162.124.62       157068  a032de091f51   \n",
              "1        HMCLDZUZPWZRR      M   39    152.76.98.87       112534  0d563f0606d6   \n",
              "2        VLGSMAPXISSEJ      M   23    31.202.3.255       148774  18fb0fa888b6   \n",
              "3        ZINHISBBOKQXT      M   34  12.242.168.185       114528  ed1eb920d721   \n",
              "4        WFKEAOTPHTYEO      M   20    26.61.210.47       120940  313dcf962627   \n",
              "\n",
              "         Date_of_Order  Order_Value_USD Order_Source Order_Payment_Method  \n",
              "0  2018-03-09 09:09:42               60          SEO          Credit Card  \n",
              "1  2018-06-13 20:11:19               28          SEO          Credit Card  \n",
              "2  2018-04-14 04:19:36               75          Ads           Debit Card  \n",
              "3  2018-04-01 13:55:44               98          SEO          Credit Card  \n",
              "4  2018-05-25 02:08:18               35          SEO          Credit Card  "
            ]
          },
          "execution_count": 103,
          "metadata": {},
          "output_type": "execute_result"
        }
      ],
      "source": [
        "# lets merge all three dataframe on common columns and get a complete dataframe\n",
        "a1 = a1.merge(b1,on = 'Merchant_ID', how='outer')\n",
        "test_df = a1.merge(c1,on = 'Merchant_ID', how ='outer')\n",
        "test_df.head()"
      ]
    },
    {
      "cell_type": "code",
      "execution_count": 104,
      "metadata": {
        "colab": {
          "base_uri": "https://localhost:8080/"
        },
        "id": "wchm42w9ovhA",
        "outputId": "eefb78ca-5182-483e-d19d-8b6f146720ce"
      },
      "outputs": [
        {
          "name": "stdout",
          "output_type": "stream",
          "text": [
            "(13554, 13) \n",
            "\n",
            "Ecommerce_Provider_ID          int64\n",
            "Merchant_ID                    int64\n",
            "Merchant_Registration_Date    object\n",
            "Registered_Device_ID          object\n",
            "Gender                        object\n",
            "Age                            int64\n",
            "IP_Address                    object\n",
            "Customer_ID                    int64\n",
            "Order_ID                      object\n",
            "Date_of_Order                 object\n",
            "Order_Value_USD                int64\n",
            "Order_Source                  object\n",
            "Order_Payment_Method          object\n",
            "dtype: object\n"
          ]
        }
      ],
      "source": [
        "print(test_df.shape, '\\n')\n",
        "print(test_df.dtypes)"
      ]
    },
    {
      "cell_type": "markdown",
      "metadata": {
        "id": "Tsqcyzg31iVX"
      },
      "source": [
        "# Pre-Processing Data and Exploratory Data Analysis\n",
        "\n",
        "Pre-processing steps of the Train Data will be Applied to Test Data respectively."
      ]
    },
    {
      "cell_type": "markdown",
      "metadata": {
        "id": "1pJZayYb1suF"
      },
      "source": [
        "#### **Notes on Quantative Features**\n",
        "\n",
        "'Merchant_ID', 'Customer_ID' will be converted to dtype 'object'.\n",
        "\n",
        "'Ecommerce_Provider_ID' will be dropped due to No Information Gain."
      ]
    },
    {
      "cell_type": "code",
      "execution_count": 105,
      "metadata": {
        "id": "oBdfsYm81078"
      },
      "outputs": [],
      "source": [
        "train_df.drop(labels = 'Ecommerce_Provider_ID', axis = 1, inplace = True)\n",
        "test_df.drop(labels = 'Ecommerce_Provider_ID', axis = 1, inplace = True)"
      ]
    },
    {
      "cell_type": "code",
      "execution_count": 106,
      "metadata": {
        "colab": {
          "base_uri": "https://localhost:8080/",
          "height": 357
        },
        "id": "HweWqwS82CIz",
        "outputId": "fdde4a1d-1fa4-474b-ea56-ed61cee8be91"
      },
      "outputs": [
        {
          "data": {
            "text/html": [
              "<div>\n",
              "<style scoped>\n",
              "    .dataframe tbody tr th:only-of-type {\n",
              "        vertical-align: middle;\n",
              "    }\n",
              "\n",
              "    .dataframe tbody tr th {\n",
              "        vertical-align: top;\n",
              "    }\n",
              "\n",
              "    .dataframe thead th {\n",
              "        text-align: right;\n",
              "    }\n",
              "</style>\n",
              "<table border=\"1\" class=\"dataframe\">\n",
              "  <thead>\n",
              "    <tr style=\"text-align: right;\">\n",
              "      <th></th>\n",
              "      <th>Merchant_ID</th>\n",
              "      <th>Merchant_Registration_Date</th>\n",
              "      <th>Registered_Device_ID</th>\n",
              "      <th>Gender</th>\n",
              "      <th>Age</th>\n",
              "      <th>IP_Address</th>\n",
              "      <th>Customer_ID</th>\n",
              "      <th>Order_ID</th>\n",
              "      <th>Date_of_Order</th>\n",
              "      <th>Order_Value_USD</th>\n",
              "      <th>Order_Source</th>\n",
              "      <th>Order_Payment_Method</th>\n",
              "      <th>Fraudster</th>\n",
              "    </tr>\n",
              "  </thead>\n",
              "  <tbody>\n",
              "    <tr>\n",
              "      <th>0</th>\n",
              "      <td>50448</td>\n",
              "      <td>2018-05-01 21:15:11</td>\n",
              "      <td>VATQMMZTVOZUT</td>\n",
              "      <td>F</td>\n",
              "      <td>39</td>\n",
              "      <td>48.151.136.76</td>\n",
              "      <td>129697</td>\n",
              "      <td>3b8983a83c7b</td>\n",
              "      <td>2018-07-30 10:59:13</td>\n",
              "      <td>90</td>\n",
              "      <td>SEO</td>\n",
              "      <td>Debit Card</td>\n",
              "      <td>0</td>\n",
              "    </tr>\n",
              "    <tr>\n",
              "      <th>1</th>\n",
              "      <td>338754</td>\n",
              "      <td>2018-04-14 10:13:00</td>\n",
              "      <td>LJCILLBRQZNKS</td>\n",
              "      <td>M</td>\n",
              "      <td>35</td>\n",
              "      <td>94.9.145.169</td>\n",
              "      <td>117390</td>\n",
              "      <td>34b5eb921228</td>\n",
              "      <td>2018-06-15 11:19:47</td>\n",
              "      <td>98</td>\n",
              "      <td>SEO</td>\n",
              "      <td>Internet Banking</td>\n",
              "      <td>0</td>\n",
              "    </tr>\n",
              "    <tr>\n",
              "      <th>2</th>\n",
              "      <td>291127</td>\n",
              "      <td>2018-06-20 07:44:22</td>\n",
              "      <td>JFVHSUGKDAYZV</td>\n",
              "      <td>F</td>\n",
              "      <td>40</td>\n",
              "      <td>58.94.157.121</td>\n",
              "      <td>120162</td>\n",
              "      <td>41a1c86ff08b</td>\n",
              "      <td>2018-08-13 10:06:26</td>\n",
              "      <td>95</td>\n",
              "      <td>SEO</td>\n",
              "      <td>Credit Card</td>\n",
              "      <td>0</td>\n",
              "    </tr>\n",
              "    <tr>\n",
              "      <th>3</th>\n",
              "      <td>319919</td>\n",
              "      <td>2018-06-27 01:41:39</td>\n",
              "      <td>WFRXMPLQYXRMY</td>\n",
              "      <td>M</td>\n",
              "      <td>37</td>\n",
              "      <td>193.187.41.186</td>\n",
              "      <td>128228</td>\n",
              "      <td>e8c3ad80d916</td>\n",
              "      <td>2018-07-22 15:46:51</td>\n",
              "      <td>100</td>\n",
              "      <td>Direct</td>\n",
              "      <td>E-wallet</td>\n",
              "      <td>0</td>\n",
              "    </tr>\n",
              "    <tr>\n",
              "      <th>4</th>\n",
              "      <td>195911</td>\n",
              "      <td>2018-01-05 00:55:41</td>\n",
              "      <td>GGHKWMSWHCMID</td>\n",
              "      <td>F</td>\n",
              "      <td>27</td>\n",
              "      <td>125.96.20.172</td>\n",
              "      <td>136029</td>\n",
              "      <td>e71ab1f26785</td>\n",
              "      <td>2018-04-16 08:02:44</td>\n",
              "      <td>78</td>\n",
              "      <td>SEO</td>\n",
              "      <td>E-wallet</td>\n",
              "      <td>0</td>\n",
              "    </tr>\n",
              "  </tbody>\n",
              "</table>\n",
              "</div>"
            ],
            "text/plain": [
              "   Merchant_ID Merchant_Registration_Date Registered_Device_ID Gender  Age  \\\n",
              "0        50448        2018-05-01 21:15:11        VATQMMZTVOZUT      F   39   \n",
              "1       338754        2018-04-14 10:13:00        LJCILLBRQZNKS      M   35   \n",
              "2       291127        2018-06-20 07:44:22        JFVHSUGKDAYZV      F   40   \n",
              "3       319919        2018-06-27 01:41:39        WFRXMPLQYXRMY      M   37   \n",
              "4       195911        2018-01-05 00:55:41        GGHKWMSWHCMID      F   27   \n",
              "\n",
              "       IP_Address  Customer_ID      Order_ID        Date_of_Order  \\\n",
              "0   48.151.136.76       129697  3b8983a83c7b  2018-07-30 10:59:13   \n",
              "1    94.9.145.169       117390  34b5eb921228  2018-06-15 11:19:47   \n",
              "2   58.94.157.121       120162  41a1c86ff08b  2018-08-13 10:06:26   \n",
              "3  193.187.41.186       128228  e8c3ad80d916  2018-07-22 15:46:51   \n",
              "4   125.96.20.172       136029  e71ab1f26785  2018-04-16 08:02:44   \n",
              "\n",
              "   Order_Value_USD Order_Source Order_Payment_Method  Fraudster  \n",
              "0               90          SEO           Debit Card          0  \n",
              "1               98          SEO     Internet Banking          0  \n",
              "2               95          SEO          Credit Card          0  \n",
              "3              100       Direct             E-wallet          0  \n",
              "4               78          SEO             E-wallet          0  "
            ]
          },
          "execution_count": 106,
          "metadata": {},
          "output_type": "execute_result"
        }
      ],
      "source": [
        "train_df.head(5)"
      ]
    },
    {
      "cell_type": "code",
      "execution_count": 107,
      "metadata": {
        "colab": {
          "base_uri": "https://localhost:8080/"
        },
        "id": "M1dNu-uz2RaP",
        "outputId": "0871a2d6-4963-4d4b-ed7b-131b7f080749"
      },
      "outputs": [
        {
          "name": "stdout",
          "output_type": "stream",
          "text": [
            "Merchant_ID                           object\n",
            "Merchant_Registration_Date    datetime64[ns]\n",
            "Registered_Device_ID                  object\n",
            "Gender                                object\n",
            "Age                                    int64\n",
            "IP_Address                            object\n",
            "Customer_ID                           object\n",
            "Order_ID                              object\n",
            "Date_of_Order                 datetime64[ns]\n",
            "Order_Value_USD                        int64\n",
            "Order_Source                          object\n",
            "Order_Payment_Method                  object\n",
            "Fraudster                              int64\n",
            "dtype: object \n",
            "\n",
            "Merchant_ID                           object\n",
            "Merchant_Registration_Date    datetime64[ns]\n",
            "Registered_Device_ID                  object\n",
            "Gender                                object\n",
            "Age                                    int64\n",
            "IP_Address                            object\n",
            "Customer_ID                           object\n",
            "Order_ID                              object\n",
            "Date_of_Order                 datetime64[ns]\n",
            "Order_Value_USD                        int64\n",
            "Order_Source                          object\n",
            "Order_Payment_Method                  object\n",
            "dtype: object\n"
          ]
        }
      ],
      "source": [
        "train_df[['Merchant_ID', 'Customer_ID']] = train_df[['Merchant_ID', 'Customer_ID']].astype('object') \n",
        "test_df[['Merchant_ID', 'Customer_ID']] = test_df[['Merchant_ID', 'Customer_ID']].astype('object')\n",
        "train_df['Date_of_Order'] = train_df['Date_of_Order'].astype('datetime64[ns]') \n",
        "test_df['Date_of_Order'] = test_df['Date_of_Order'].astype('datetime64[ns]')\n",
        "train_df['Merchant_Registration_Date'] = train_df['Merchant_Registration_Date'].astype('datetime64[ns]') \n",
        "test_df['Merchant_Registration_Date'] = test_df['Merchant_Registration_Date'].astype('datetime64[ns]')\n",
        "print(train_df.dtypes, '\\n')\n",
        "print(test_df.dtypes)"
      ]
    },
    {
      "cell_type": "markdown",
      "metadata": {},
      "source": [
        "### Percentage Distribution of Order sources"
      ]
    },
    {
      "cell_type": "code",
      "execution_count": 108,
      "metadata": {},
      "outputs": [
        {
          "data": {
            "text/plain": [
              "SEO       0.403667\n",
              "Ads       0.392138\n",
              "Direct    0.204195\n",
              "Name: Order_Source, dtype: float64"
            ]
          },
          "execution_count": 108,
          "metadata": {},
          "output_type": "execute_result"
        }
      ],
      "source": [
        "train_df['Order_Source'].value_counts(normalize = True)"
      ]
    },
    {
      "cell_type": "code",
      "execution_count": 109,
      "metadata": {},
      "outputs": [
        {
          "data": {
            "image/png": "[encoded data removed]",
            "text/plain": [
              "<Figure size 432x288 with 1 Axes>"
            ]
          },
          "metadata": {
            "needs_background": "light"
          },
          "output_type": "display_data"
        },
        {
          "data": {
            "text/plain": [
              "SEO       21884\n",
              "Ads       21259\n",
              "Direct    11070\n",
              "Name: Order_Source, dtype: int64"
            ]
          },
          "execution_count": 109,
          "metadata": {},
          "output_type": "execute_result"
        }
      ],
      "source": [
        "sns.countplot(x='Order_Source', data=train_df)\n",
        "plt.show()\n",
        "train_df.Order_Source.value_counts()"
      ]
    },
    {
      "cell_type": "markdown",
      "metadata": {},
      "source": [
        "Distribution of 'Age' is fairly symmetrical. Mean = 33.12, Median = 32"
      ]
    },
    {
      "cell_type": "code",
      "execution_count": 110,
      "metadata": {},
      "outputs": [
        {
          "data": {
            "text/plain": [
              "<AxesSubplot:xlabel='Age', ylabel='Density'>"
            ]
          },
          "execution_count": 110,
          "metadata": {},
          "output_type": "execute_result"
        },
        {
          "data": {
            "image/png": "[encoded data removed]",
            "text/plain": [
              "<Figure size 432x288 with 1 Axes>"
            ]
          },
          "metadata": {
            "needs_background": "light"
          },
          "output_type": "display_data"
        }
      ],
      "source": [
        "# Check distribution of age\n",
        "# Density Curve + Histogram, shows distribution of Continuous Feature\n",
        "%matplotlib inline\n",
        "sns.distplot(train_df[\"Age\"]) #NT: y is percentage count "
      ]
    },
    {
      "cell_type": "code",
      "execution_count": 111,
      "metadata": {},
      "outputs": [
        {
          "data": {
            "text/plain": [
              "Credit Card         0.402929\n",
              "Internet Banking    0.243355\n",
              "Debit Card          0.167303\n",
              "E-wallet            0.161197\n",
              "Cash On Delivery    0.025215\n",
              "Name: Order_Payment_Method, dtype: float64"
            ]
          },
          "execution_count": 111,
          "metadata": {},
          "output_type": "execute_result"
        }
      ],
      "source": [
        "train_df['Order_Payment_Method'].value_counts(normalize = True)"
      ]
    },
    {
      "cell_type": "code",
      "execution_count": 112,
      "metadata": {},
      "outputs": [
        {
          "data": {
            "image/png": "[encoded data removed]",
            "text/plain": [
              "<Figure size 432x288 with 1 Axes>"
            ]
          },
          "metadata": {
            "needs_background": "light"
          },
          "output_type": "display_data"
        },
        {
          "data": {
            "text/plain": [
              "Credit Card         21844\n",
              "Internet Banking    13193\n",
              "Debit Card           9070\n",
              "E-wallet             8739\n",
              "Cash On Delivery     1367\n",
              "Name: Order_Payment_Method, dtype: int64"
            ]
          },
          "execution_count": 112,
          "metadata": {},
          "output_type": "execute_result"
        }
      ],
      "source": [
        "sns.countplot(x='Order_Payment_Method', data=train_df)\n",
        "plt.show()\n",
        "train_df.Order_Payment_Method.value_counts()"
      ]
    },
    {
      "cell_type": "markdown",
      "metadata": {},
      "source": [
        "### Feature Engineering"
      ]
    },
    {
      "cell_type": "code",
      "execution_count": 113,
      "metadata": {},
      "outputs": [],
      "source": [
        "#!pip install maxminddb-geolite2"
      ]
    },
    {
      "cell_type": "markdown",
      "metadata": {},
      "source": [
        "#### From geolite2 library we will try to get the city ,country subdivisions and continent data from the given Ip address column"
      ]
    },
    {
      "cell_type": "code",
      "execution_count": 114,
      "metadata": {},
      "outputs": [],
      "source": [
        "from geolite2 import geolite2\n",
        "geo = geolite2.reader()\n",
        "\n",
        "def get_country(ip):\n",
        "    try :\n",
        "        x = geo.get(ip)\n",
        "    except ValueError:   #Faulty or improper IP value\n",
        "        return np.nan\n",
        "    try:\n",
        "        return x['country']['names']['en'] if x is not None else np.nan\n",
        "    except KeyError: \n",
        "        return np.nan\n",
        "    \n",
        "def get_city(ip):\n",
        "    try:\n",
        "        x = geo.get(ip)\n",
        "    except ValueError:   #if Value passed is faulty\n",
        "        return np.nan\n",
        "    \n",
        "    try:\n",
        "        return x['city']['names']['en'] if x is not None  else np.nan\n",
        "    except KeyError:  #if Dictionary indexing is faulty \n",
        "        return np.nan\n",
        "\n",
        "def get_subdivisions(ip):\n",
        "    try:\n",
        "        x = geo.get(ip)\n",
        "    except ValueError:   #if Value passed is faulty\n",
        "        return np.nan\n",
        "    \n",
        "    try:\n",
        "        return x['subdivisions'][0]['names']['en'] if x is not None  else np.nan\n",
        "    except KeyError:  #if Dictionary indexing is faulty \n",
        "        return np.nan\n",
        "\n",
        "def get_continent(ip):\n",
        "    try:\n",
        "        x = geo.get(ip)\n",
        "    except ValueError:   #if Value pafssed is faulty\n",
        "        return np.nan\n",
        "    \n",
        "    try:\n",
        "        return x['continent']['names']['en'] if x is not None  else np.nan\n",
        "    except KeyError:  #if Dictionary indexing is faulty \n",
        "        return np.nan        "
      ]
    },
    {
      "cell_type": "code",
      "execution_count": 115,
      "metadata": {},
      "outputs": [
        {
          "name": "stdout",
          "output_type": "stream",
          "text": [
            "Time: 1576.3442051410675\n"
          ]
        }
      ],
      "source": [
        "import time\n",
        "\n",
        "s_time = time.time()\n",
        "#apply(fn) applies fn. on all pd.series elements\n",
        "train_df['country'] = train_df.loc[:,'IP_Address'].apply(get_country)  #Time:  41.6 s\n",
        "test_df['country'] = test_df.loc[:,'IP_Address'].apply(get_country)   #Time: 7.71 s\n",
        "train_df['Continent'] = train_df.loc[:,'IP_Address'].apply(get_continent)\n",
        "test_df['Continent'] = test_df.loc[:,'IP_Address'].apply(get_continent)\n",
        "train_df['Sub_Divisions'] = train_df.loc[:,'IP_Address'].apply(get_subdivisions)\n",
        "test_df['Sub_Divisions'] = test_df.loc[:,'IP_Address'].apply(get_subdivisions)\n",
        "train_df['City'] = train_df.loc[:,'IP_Address'].apply(get_city)\n",
        "test_df['City'] = test_df.loc[:,'IP_Address'].apply(get_city)\n",
        "# geolite2.close()\n",
        "print('Time:',time.time()-s_time)"
      ]
    },
    {
      "cell_type": "code",
      "execution_count": 116,
      "metadata": {},
      "outputs": [
        {
          "data": {
            "text/html": [
              "<div>\n",
              "<style scoped>\n",
              "    .dataframe tbody tr th:only-of-type {\n",
              "        vertical-align: middle;\n",
              "    }\n",
              "\n",
              "    .dataframe tbody tr th {\n",
              "        vertical-align: top;\n",
              "    }\n",
              "\n",
              "    .dataframe thead th {\n",
              "        text-align: right;\n",
              "    }\n",
              "</style>\n",
              "<table border=\"1\" class=\"dataframe\">\n",
              "  <thead>\n",
              "    <tr style=\"text-align: right;\">\n",
              "      <th></th>\n",
              "      <th>Merchant_ID</th>\n",
              "      <th>Merchant_Registration_Date</th>\n",
              "      <th>Registered_Device_ID</th>\n",
              "      <th>Gender</th>\n",
              "      <th>Age</th>\n",
              "      <th>IP_Address</th>\n",
              "      <th>Customer_ID</th>\n",
              "      <th>Order_ID</th>\n",
              "      <th>Date_of_Order</th>\n",
              "      <th>Order_Value_USD</th>\n",
              "      <th>Order_Source</th>\n",
              "      <th>Order_Payment_Method</th>\n",
              "      <th>Fraudster</th>\n",
              "      <th>country</th>\n",
              "      <th>Continent</th>\n",
              "      <th>Sub_Divisions</th>\n",
              "      <th>City</th>\n",
              "    </tr>\n",
              "  </thead>\n",
              "  <tbody>\n",
              "    <tr>\n",
              "      <th>0</th>\n",
              "      <td>50448</td>\n",
              "      <td>2018-05-01 21:15:11</td>\n",
              "      <td>VATQMMZTVOZUT</td>\n",
              "      <td>F</td>\n",
              "      <td>39</td>\n",
              "      <td>48.151.136.76</td>\n",
              "      <td>129697</td>\n",
              "      <td>3b8983a83c7b</td>\n",
              "      <td>2018-07-30 10:59:13</td>\n",
              "      <td>90</td>\n",
              "      <td>SEO</td>\n",
              "      <td>Debit Card</td>\n",
              "      <td>0</td>\n",
              "      <td>United States</td>\n",
              "      <td>North America</td>\n",
              "      <td>New Jersey</td>\n",
              "      <td>Newark</td>\n",
              "    </tr>\n",
              "    <tr>\n",
              "      <th>1</th>\n",
              "      <td>338754</td>\n",
              "      <td>2018-04-14 10:13:00</td>\n",
              "      <td>LJCILLBRQZNKS</td>\n",
              "      <td>M</td>\n",
              "      <td>35</td>\n",
              "      <td>94.9.145.169</td>\n",
              "      <td>117390</td>\n",
              "      <td>34b5eb921228</td>\n",
              "      <td>2018-06-15 11:19:47</td>\n",
              "      <td>98</td>\n",
              "      <td>SEO</td>\n",
              "      <td>Internet Banking</td>\n",
              "      <td>0</td>\n",
              "      <td>United Kingdom</td>\n",
              "      <td>Europe</td>\n",
              "      <td>England</td>\n",
              "      <td>Maidstone</td>\n",
              "    </tr>\n",
              "    <tr>\n",
              "      <th>2</th>\n",
              "      <td>291127</td>\n",
              "      <td>2018-06-20 07:44:22</td>\n",
              "      <td>JFVHSUGKDAYZV</td>\n",
              "      <td>F</td>\n",
              "      <td>40</td>\n",
              "      <td>58.94.157.121</td>\n",
              "      <td>120162</td>\n",
              "      <td>41a1c86ff08b</td>\n",
              "      <td>2018-08-13 10:06:26</td>\n",
              "      <td>95</td>\n",
              "      <td>SEO</td>\n",
              "      <td>Credit Card</td>\n",
              "      <td>0</td>\n",
              "      <td>Japan</td>\n",
              "      <td>Asia</td>\n",
              "      <td>Ishikawa</td>\n",
              "      <td>Komatsu</td>\n",
              "    </tr>\n",
              "    <tr>\n",
              "      <th>3</th>\n",
              "      <td>319919</td>\n",
              "      <td>2018-06-27 01:41:39</td>\n",
              "      <td>WFRXMPLQYXRMY</td>\n",
              "      <td>M</td>\n",
              "      <td>37</td>\n",
              "      <td>193.187.41.186</td>\n",
              "      <td>128228</td>\n",
              "      <td>e8c3ad80d916</td>\n",
              "      <td>2018-07-22 15:46:51</td>\n",
              "      <td>100</td>\n",
              "      <td>Direct</td>\n",
              "      <td>E-wallet</td>\n",
              "      <td>0</td>\n",
              "      <td>Austria</td>\n",
              "      <td>Europe</td>\n",
              "      <td>NaN</td>\n",
              "      <td>NaN</td>\n",
              "    </tr>\n",
              "    <tr>\n",
              "      <th>4</th>\n",
              "      <td>195911</td>\n",
              "      <td>2018-01-05 00:55:41</td>\n",
              "      <td>GGHKWMSWHCMID</td>\n",
              "      <td>F</td>\n",
              "      <td>27</td>\n",
              "      <td>125.96.20.172</td>\n",
              "      <td>136029</td>\n",
              "      <td>e71ab1f26785</td>\n",
              "      <td>2018-04-16 08:02:44</td>\n",
              "      <td>78</td>\n",
              "      <td>SEO</td>\n",
              "      <td>E-wallet</td>\n",
              "      <td>0</td>\n",
              "      <td>China</td>\n",
              "      <td>Asia</td>\n",
              "      <td>Zhejiang</td>\n",
              "      <td>Hangzhou</td>\n",
              "    </tr>\n",
              "  </tbody>\n",
              "</table>\n",
              "</div>"
            ],
            "text/plain": [
              "  Merchant_ID Merchant_Registration_Date Registered_Device_ID Gender  Age  \\\n",
              "0       50448        2018-05-01 21:15:11        VATQMMZTVOZUT      F   39   \n",
              "1      338754        2018-04-14 10:13:00        LJCILLBRQZNKS      M   35   \n",
              "2      291127        2018-06-20 07:44:22        JFVHSUGKDAYZV      F   40   \n",
              "3      319919        2018-06-27 01:41:39        WFRXMPLQYXRMY      M   37   \n",
              "4      195911        2018-01-05 00:55:41        GGHKWMSWHCMID      F   27   \n",
              "\n",
              "       IP_Address Customer_ID      Order_ID       Date_of_Order  \\\n",
              "0   48.151.136.76      129697  3b8983a83c7b 2018-07-30 10:59:13   \n",
              "1    94.9.145.169      117390  34b5eb921228 2018-06-15 11:19:47   \n",
              "2   58.94.157.121      120162  41a1c86ff08b 2018-08-13 10:06:26   \n",
              "3  193.187.41.186      128228  e8c3ad80d916 2018-07-22 15:46:51   \n",
              "4   125.96.20.172      136029  e71ab1f26785 2018-04-16 08:02:44   \n",
              "\n",
              "   Order_Value_USD Order_Source Order_Payment_Method  Fraudster  \\\n",
              "0               90          SEO           Debit Card          0   \n",
              "1               98          SEO     Internet Banking          0   \n",
              "2               95          SEO          Credit Card          0   \n",
              "3              100       Direct             E-wallet          0   \n",
              "4               78          SEO             E-wallet          0   \n",
              "\n",
              "          country      Continent Sub_Divisions       City  \n",
              "0   United States  North America    New Jersey     Newark  \n",
              "1  United Kingdom         Europe       England  Maidstone  \n",
              "2           Japan           Asia      Ishikawa    Komatsu  \n",
              "3         Austria         Europe           NaN        NaN  \n",
              "4           China           Asia      Zhejiang   Hangzhou  "
            ]
          },
          "execution_count": 116,
          "metadata": {},
          "output_type": "execute_result"
        }
      ],
      "source": [
        "# first 5 rows\n",
        "train_df.head(5)"
      ]
    },
    {
      "cell_type": "code",
      "execution_count": 117,
      "metadata": {},
      "outputs": [
        {
          "data": {
            "text/plain": [
              "Merchant_ID                       0\n",
              "Merchant_Registration_Date        0\n",
              "Registered_Device_ID              0\n",
              "Gender                            0\n",
              "Age                               0\n",
              "IP_Address                        0\n",
              "Customer_ID                       0\n",
              "Order_ID                          0\n",
              "Date_of_Order                     0\n",
              "Order_Value_USD                   0\n",
              "Order_Source                      0\n",
              "Order_Payment_Method              0\n",
              "Fraudster                         0\n",
              "country                        7808\n",
              "Continent                      7751\n",
              "Sub_Divisions                 23945\n",
              "City                          24285\n",
              "dtype: int64"
            ]
          },
          "execution_count": 117,
          "metadata": {},
          "output_type": "execute_result"
        }
      ],
      "source": [
        "## Checking null values again\n",
        "train_df.isnull().sum()"
      ]
    },
    {
      "cell_type": "code",
      "execution_count": 118,
      "metadata": {},
      "outputs": [
        {
          "name": "stdout",
          "output_type": "stream",
          "text": [
            "(13554, 16)\n"
          ]
        },
        {
          "data": {
            "text/plain": [
              "Merchant_ID                      0\n",
              "Merchant_Registration_Date       0\n",
              "Registered_Device_ID             0\n",
              "Gender                           0\n",
              "Age                              0\n",
              "IP_Address                       0\n",
              "Customer_ID                      0\n",
              "Order_ID                         0\n",
              "Date_of_Order                    0\n",
              "Order_Value_USD                  0\n",
              "Order_Source                     0\n",
              "Order_Payment_Method             0\n",
              "country                       1980\n",
              "Continent                     1967\n",
              "Sub_Divisions                 6122\n",
              "City                          6204\n",
              "dtype: int64"
            ]
          },
          "execution_count": 118,
          "metadata": {},
          "output_type": "execute_result"
        }
      ],
      "source": [
        "print(test_df.shape)\n",
        "test_df.isna().sum()"
      ]
    },
    {
      "cell_type": "markdown",
      "metadata": {},
      "source": [
        "### Extracting date,month,year from both tainning and testing data"
      ]
    },
    {
      "cell_type": "code",
      "execution_count": 119,
      "metadata": {},
      "outputs": [],
      "source": [
        "# Extracting DT info\n",
        "train_df['Quarter'] = train_df['Date_of_Order'].dt.quarter\n",
        "train_df['Month'] = train_df['Date_of_Order'].dt.month\n",
        "train_df['Day'] = train_df['Date_of_Order'].dt.weekday\n",
        "train_df['Time_Hour'] = train_df['Date_of_Order'].dt.hour\n",
        "test_df['Quarter'] = test_df['Date_of_Order'].dt.quarter\n",
        "test_df['Month'] = test_df['Date_of_Order'].dt.month\n",
        "test_df['Day'] = test_df['Date_of_Order'].dt.weekday\n",
        "test_df['Time_Hour'] = test_df['Date_of_Order'].dt.hour"
      ]
    },
    {
      "cell_type": "code",
      "execution_count": 120,
      "metadata": {},
      "outputs": [
        {
          "data": {
            "text/html": [
              "<div>\n",
              "<style scoped>\n",
              "    .dataframe tbody tr th:only-of-type {\n",
              "        vertical-align: middle;\n",
              "    }\n",
              "\n",
              "    .dataframe tbody tr th {\n",
              "        vertical-align: top;\n",
              "    }\n",
              "\n",
              "    .dataframe thead th {\n",
              "        text-align: right;\n",
              "    }\n",
              "</style>\n",
              "<table border=\"1\" class=\"dataframe\">\n",
              "  <thead>\n",
              "    <tr style=\"text-align: right;\">\n",
              "      <th></th>\n",
              "      <th>Merchant_ID</th>\n",
              "      <th>Merchant_Registration_Date</th>\n",
              "      <th>Registered_Device_ID</th>\n",
              "      <th>Gender</th>\n",
              "      <th>Age</th>\n",
              "      <th>IP_Address</th>\n",
              "      <th>Customer_ID</th>\n",
              "      <th>Order_ID</th>\n",
              "      <th>Date_of_Order</th>\n",
              "      <th>Order_Value_USD</th>\n",
              "      <th>...</th>\n",
              "      <th>Order_Payment_Method</th>\n",
              "      <th>Fraudster</th>\n",
              "      <th>country</th>\n",
              "      <th>Continent</th>\n",
              "      <th>Sub_Divisions</th>\n",
              "      <th>City</th>\n",
              "      <th>Quarter</th>\n",
              "      <th>Month</th>\n",
              "      <th>Day</th>\n",
              "      <th>Time_Hour</th>\n",
              "    </tr>\n",
              "  </thead>\n",
              "  <tbody>\n",
              "    <tr>\n",
              "      <th>0</th>\n",
              "      <td>50448</td>\n",
              "      <td>2018-05-01 21:15:11</td>\n",
              "      <td>VATQMMZTVOZUT</td>\n",
              "      <td>F</td>\n",
              "      <td>39</td>\n",
              "      <td>48.151.136.76</td>\n",
              "      <td>129697</td>\n",
              "      <td>3b8983a83c7b</td>\n",
              "      <td>2018-07-30 10:59:13</td>\n",
              "      <td>90</td>\n",
              "      <td>...</td>\n",
              "      <td>Debit Card</td>\n",
              "      <td>0</td>\n",
              "      <td>United States</td>\n",
              "      <td>North America</td>\n",
              "      <td>New Jersey</td>\n",
              "      <td>Newark</td>\n",
              "      <td>3</td>\n",
              "      <td>7</td>\n",
              "      <td>0</td>\n",
              "      <td>10</td>\n",
              "    </tr>\n",
              "    <tr>\n",
              "      <th>1</th>\n",
              "      <td>338754</td>\n",
              "      <td>2018-04-14 10:13:00</td>\n",
              "      <td>LJCILLBRQZNKS</td>\n",
              "      <td>M</td>\n",
              "      <td>35</td>\n",
              "      <td>94.9.145.169</td>\n",
              "      <td>117390</td>\n",
              "      <td>34b5eb921228</td>\n",
              "      <td>2018-06-15 11:19:47</td>\n",
              "      <td>98</td>\n",
              "      <td>...</td>\n",
              "      <td>Internet Banking</td>\n",
              "      <td>0</td>\n",
              "      <td>United Kingdom</td>\n",
              "      <td>Europe</td>\n",
              "      <td>England</td>\n",
              "      <td>Maidstone</td>\n",
              "      <td>2</td>\n",
              "      <td>6</td>\n",
              "      <td>4</td>\n",
              "      <td>11</td>\n",
              "    </tr>\n",
              "    <tr>\n",
              "      <th>2</th>\n",
              "      <td>291127</td>\n",
              "      <td>2018-06-20 07:44:22</td>\n",
              "      <td>JFVHSUGKDAYZV</td>\n",
              "      <td>F</td>\n",
              "      <td>40</td>\n",
              "      <td>58.94.157.121</td>\n",
              "      <td>120162</td>\n",
              "      <td>41a1c86ff08b</td>\n",
              "      <td>2018-08-13 10:06:26</td>\n",
              "      <td>95</td>\n",
              "      <td>...</td>\n",
              "      <td>Credit Card</td>\n",
              "      <td>0</td>\n",
              "      <td>Japan</td>\n",
              "      <td>Asia</td>\n",
              "      <td>Ishikawa</td>\n",
              "      <td>Komatsu</td>\n",
              "      <td>3</td>\n",
              "      <td>8</td>\n",
              "      <td>0</td>\n",
              "      <td>10</td>\n",
              "    </tr>\n",
              "    <tr>\n",
              "      <th>3</th>\n",
              "      <td>319919</td>\n",
              "      <td>2018-06-27 01:41:39</td>\n",
              "      <td>WFRXMPLQYXRMY</td>\n",
              "      <td>M</td>\n",
              "      <td>37</td>\n",
              "      <td>193.187.41.186</td>\n",
              "      <td>128228</td>\n",
              "      <td>e8c3ad80d916</td>\n",
              "      <td>2018-07-22 15:46:51</td>\n",
              "      <td>100</td>\n",
              "      <td>...</td>\n",
              "      <td>E-wallet</td>\n",
              "      <td>0</td>\n",
              "      <td>Austria</td>\n",
              "      <td>Europe</td>\n",
              "      <td>NaN</td>\n",
              "      <td>NaN</td>\n",
              "      <td>3</td>\n",
              "      <td>7</td>\n",
              "      <td>6</td>\n",
              "      <td>15</td>\n",
              "    </tr>\n",
              "    <tr>\n",
              "      <th>4</th>\n",
              "      <td>195911</td>\n",
              "      <td>2018-01-05 00:55:41</td>\n",
              "      <td>GGHKWMSWHCMID</td>\n",
              "      <td>F</td>\n",
              "      <td>27</td>\n",
              "      <td>125.96.20.172</td>\n",
              "      <td>136029</td>\n",
              "      <td>e71ab1f26785</td>\n",
              "      <td>2018-04-16 08:02:44</td>\n",
              "      <td>78</td>\n",
              "      <td>...</td>\n",
              "      <td>E-wallet</td>\n",
              "      <td>0</td>\n",
              "      <td>China</td>\n",
              "      <td>Asia</td>\n",
              "      <td>Zhejiang</td>\n",
              "      <td>Hangzhou</td>\n",
              "      <td>2</td>\n",
              "      <td>4</td>\n",
              "      <td>0</td>\n",
              "      <td>8</td>\n",
              "    </tr>\n",
              "  </tbody>\n",
              "</table>\n",
              "<p>5 rows × 21 columns</p>\n",
              "</div>"
            ],
            "text/plain": [
              "  Merchant_ID Merchant_Registration_Date Registered_Device_ID Gender  Age  \\\n",
              "0       50448        2018-05-01 21:15:11        VATQMMZTVOZUT      F   39   \n",
              "1      338754        2018-04-14 10:13:00        LJCILLBRQZNKS      M   35   \n",
              "2      291127        2018-06-20 07:44:22        JFVHSUGKDAYZV      F   40   \n",
              "3      319919        2018-06-27 01:41:39        WFRXMPLQYXRMY      M   37   \n",
              "4      195911        2018-01-05 00:55:41        GGHKWMSWHCMID      F   27   \n",
              "\n",
              "       IP_Address Customer_ID      Order_ID       Date_of_Order  \\\n",
              "0   48.151.136.76      129697  3b8983a83c7b 2018-07-30 10:59:13   \n",
              "1    94.9.145.169      117390  34b5eb921228 2018-06-15 11:19:47   \n",
              "2   58.94.157.121      120162  41a1c86ff08b 2018-08-13 10:06:26   \n",
              "3  193.187.41.186      128228  e8c3ad80d916 2018-07-22 15:46:51   \n",
              "4   125.96.20.172      136029  e71ab1f26785 2018-04-16 08:02:44   \n",
              "\n",
              "   Order_Value_USD  ... Order_Payment_Method Fraudster         country  \\\n",
              "0               90  ...           Debit Card         0   United States   \n",
              "1               98  ...     Internet Banking         0  United Kingdom   \n",
              "2               95  ...          Credit Card         0           Japan   \n",
              "3              100  ...             E-wallet         0         Austria   \n",
              "4               78  ...             E-wallet         0           China   \n",
              "\n",
              "       Continent Sub_Divisions       City Quarter  Month  Day  Time_Hour  \n",
              "0  North America    New Jersey     Newark       3      7    0         10  \n",
              "1         Europe       England  Maidstone       2      6    4         11  \n",
              "2           Asia      Ishikawa    Komatsu       3      8    0         10  \n",
              "3         Europe           NaN        NaN       3      7    6         15  \n",
              "4           Asia      Zhejiang   Hangzhou       2      4    0          8  \n",
              "\n",
              "[5 rows x 21 columns]"
            ]
          },
          "execution_count": 120,
          "metadata": {},
          "output_type": "execute_result"
        }
      ],
      "source": [
        "# checking our train_df first few rows\n",
        "train_df.head(5)"
      ]
    },
    {
      "cell_type": "markdown",
      "metadata": {},
      "source": [
        "### country with highest merchant count"
      ]
    },
    {
      "cell_type": "code",
      "execution_count": 121,
      "metadata": {},
      "outputs": [
        {
          "data": {
            "text/html": [
              "<div>\n",
              "<style scoped>\n",
              "    .dataframe tbody tr th:only-of-type {\n",
              "        vertical-align: middle;\n",
              "    }\n",
              "\n",
              "    .dataframe tbody tr th {\n",
              "        vertical-align: top;\n",
              "    }\n",
              "\n",
              "    .dataframe thead th {\n",
              "        text-align: right;\n",
              "    }\n",
              "</style>\n",
              "<table border=\"1\" class=\"dataframe\">\n",
              "  <thead>\n",
              "    <tr style=\"text-align: right;\">\n",
              "      <th></th>\n",
              "      <th>country</th>\n",
              "      <th>Count</th>\n",
              "    </tr>\n",
              "  </thead>\n",
              "  <tbody>\n",
              "    <tr>\n",
              "      <th>0</th>\n",
              "      <td>United States</td>\n",
              "      <td>20758</td>\n",
              "    </tr>\n",
              "    <tr>\n",
              "      <th>1</th>\n",
              "      <td>China</td>\n",
              "      <td>4358</td>\n",
              "    </tr>\n",
              "    <tr>\n",
              "      <th>2</th>\n",
              "      <td>Japan</td>\n",
              "      <td>2707</td>\n",
              "    </tr>\n",
              "    <tr>\n",
              "      <th>3</th>\n",
              "      <td>United Kingdom</td>\n",
              "      <td>1594</td>\n",
              "    </tr>\n",
              "    <tr>\n",
              "      <th>4</th>\n",
              "      <td>Republic of Korea</td>\n",
              "      <td>1437</td>\n",
              "    </tr>\n",
              "    <tr>\n",
              "      <th>5</th>\n",
              "      <td>Germany</td>\n",
              "      <td>1435</td>\n",
              "    </tr>\n",
              "    <tr>\n",
              "      <th>6</th>\n",
              "      <td>France</td>\n",
              "      <td>1113</td>\n",
              "    </tr>\n",
              "    <tr>\n",
              "      <th>7</th>\n",
              "      <td>Brazil</td>\n",
              "      <td>1039</td>\n",
              "    </tr>\n",
              "    <tr>\n",
              "      <th>8</th>\n",
              "      <td>Canada</td>\n",
              "      <td>950</td>\n",
              "    </tr>\n",
              "    <tr>\n",
              "      <th>9</th>\n",
              "      <td>Netherlands</td>\n",
              "      <td>725</td>\n",
              "    </tr>\n",
              "  </tbody>\n",
              "</table>\n",
              "</div>"
            ],
            "text/plain": [
              "             country  Count\n",
              "0      United States  20758\n",
              "1              China   4358\n",
              "2              Japan   2707\n",
              "3     United Kingdom   1594\n",
              "4  Republic of Korea   1437\n",
              "5            Germany   1435\n",
              "6             France   1113\n",
              "7             Brazil   1039\n",
              "8             Canada    950\n",
              "9        Netherlands    725"
            ]
          },
          "execution_count": 121,
          "metadata": {},
          "output_type": "execute_result"
        }
      ],
      "source": [
        "top_country_with_merchant = pd.DataFrame(train_df.groupby('country')['Merchant_ID'].count().\\\n",
        "                                         sort_values(ascending = False).reset_index())\n",
        "top_country_with_merchant = top_country_with_merchant.rename(columns={'Merchant_ID':'Count'})\n",
        "top_country_with_merchant.head(10)"
      ]
    },
    {
      "cell_type": "markdown",
      "metadata": {},
      "source": [
        "### City with highest merchant count"
      ]
    },
    {
      "cell_type": "code",
      "execution_count": 122,
      "metadata": {},
      "outputs": [
        {
          "data": {
            "text/html": [
              "<div>\n",
              "<style scoped>\n",
              "    .dataframe tbody tr th:only-of-type {\n",
              "        vertical-align: middle;\n",
              "    }\n",
              "\n",
              "    .dataframe tbody tr th {\n",
              "        vertical-align: top;\n",
              "    }\n",
              "\n",
              "    .dataframe thead th {\n",
              "        text-align: right;\n",
              "    }\n",
              "</style>\n",
              "<table border=\"1\" class=\"dataframe\">\n",
              "  <thead>\n",
              "    <tr style=\"text-align: right;\">\n",
              "      <th></th>\n",
              "      <th>City</th>\n",
              "      <th>Count</th>\n",
              "    </tr>\n",
              "  </thead>\n",
              "  <tbody>\n",
              "    <tr>\n",
              "      <th>0</th>\n",
              "      <td>Beijing</td>\n",
              "      <td>847</td>\n",
              "    </tr>\n",
              "    <tr>\n",
              "      <th>1</th>\n",
              "      <td>Tokyo</td>\n",
              "      <td>821</td>\n",
              "    </tr>\n",
              "    <tr>\n",
              "      <th>2</th>\n",
              "      <td>Fort Huachuca</td>\n",
              "      <td>658</td>\n",
              "    </tr>\n",
              "    <tr>\n",
              "      <th>3</th>\n",
              "      <td>Palo Alto</td>\n",
              "      <td>379</td>\n",
              "    </tr>\n",
              "    <tr>\n",
              "      <th>4</th>\n",
              "      <td>Guangzhou</td>\n",
              "      <td>324</td>\n",
              "    </tr>\n",
              "    <tr>\n",
              "      <th>5</th>\n",
              "      <td>Dearborn</td>\n",
              "      <td>309</td>\n",
              "    </tr>\n",
              "    <tr>\n",
              "      <th>6</th>\n",
              "      <td>New York</td>\n",
              "      <td>308</td>\n",
              "    </tr>\n",
              "    <tr>\n",
              "      <th>7</th>\n",
              "      <td>Houston</td>\n",
              "      <td>289</td>\n",
              "    </tr>\n",
              "    <tr>\n",
              "      <th>8</th>\n",
              "      <td>San Diego</td>\n",
              "      <td>284</td>\n",
              "    </tr>\n",
              "    <tr>\n",
              "      <th>9</th>\n",
              "      <td>Seoul</td>\n",
              "      <td>282</td>\n",
              "    </tr>\n",
              "  </tbody>\n",
              "</table>\n",
              "</div>"
            ],
            "text/plain": [
              "            City  Count\n",
              "0        Beijing    847\n",
              "1          Tokyo    821\n",
              "2  Fort Huachuca    658\n",
              "3      Palo Alto    379\n",
              "4      Guangzhou    324\n",
              "5       Dearborn    309\n",
              "6       New York    308\n",
              "7        Houston    289\n",
              "8      San Diego    284\n",
              "9          Seoul    282"
            ]
          },
          "execution_count": 122,
          "metadata": {},
          "output_type": "execute_result"
        }
      ],
      "source": [
        "top_city_with_merchant = pd.DataFrame(train_df.groupby('City')['Merchant_ID'].count().\\\n",
        "                                         sort_values(ascending = False).reset_index())\n",
        "top_city_with_merchant =top_city_with_merchant.rename(columns={'Merchant_ID':'Count'})\n",
        "top_city_with_merchant.head(10)"
      ]
    },
    {
      "cell_type": "markdown",
      "metadata": {},
      "source": [
        "### Account period for Merchant"
      ]
    },
    {
      "cell_type": "code",
      "execution_count": 129,
      "metadata": {},
      "outputs": [],
      "source": [
        "train_df['Account_Period'] = (train_df['Date_of_Order'].dt.date -train_df['Merchant_Registration_Date'].dt.date).dt.days\n",
        "test_df['Account_Period'] = (test_df['Date_of_Order'].dt.date - test_df['Merchant_Registration_Date'].dt.date).dt.days"
      ]
    },
    {
      "cell_type": "code",
      "execution_count": 166,
      "metadata": {},
      "outputs": [],
      "source": [
        "## Separating dataframe into fraud and not fraud dataframes \n",
        "fraud_df  =  train_df[train_df['Fraudster']==1]\n",
        "notfraud_df = train_df[train_df['Fraudster']==0]"
      ]
    },
    {
      "cell_type": "markdown",
      "metadata": {},
      "source": [
        "### Density Plot for account_period of merchants"
      ]
    },
    {
      "cell_type": "code",
      "execution_count": 171,
      "metadata": {},
      "outputs": [
        {
          "data": {
            "image/png": "[encoded data removed]",
            "text/plain": [
              "<Figure size 432x288 with 1 Axes>"
            ]
          },
          "metadata": {
            "needs_background": "light"
          },
          "output_type": "display_data"
        }
      ],
      "source": [
        "# Plotting distplot \n",
        "sns.distplot( fraud_df['Account_Period'], kde = True, color ='red', bins = 30)\n",
        "sns.distplot( notfraud_df['Account_Period'], kde = True, color ='blue', bins = 30)\n",
        "plt.title('Density Plot for Account Period');"
      ]
    },
    {
      "cell_type": "markdown",
      "metadata": {},
      "source": [
        "### Density plot for age "
      ]
    },
    {
      "cell_type": "code",
      "execution_count": 172,
      "metadata": {},
      "outputs": [
        {
          "data": {
            "image/png": "[encoded data removed]",
            "text/plain": [
              "<Figure size 432x288 with 1 Axes>"
            ]
          },
          "metadata": {
            "needs_background": "light"
          },
          "output_type": "display_data"
        }
      ],
      "source": [
        "# Plotting distplot \n",
        "sns.distplot( fraud_df['Age'], kde = True, color ='red', bins = 30)\n",
        "sns.distplot( notfraud_df['Age'], kde = True, color ='blue', bins = 30)\n",
        "plt.title('Density Plot for Age');"
      ]
    },
    {
      "cell_type": "code",
      "execution_count": 173,
      "metadata": {},
      "outputs": [
        {
          "data": {
            "text/html": [
              "<div>\n",
              "<style scoped>\n",
              "    .dataframe tbody tr th:only-of-type {\n",
              "        vertical-align: middle;\n",
              "    }\n",
              "\n",
              "    .dataframe tbody tr th {\n",
              "        vertical-align: top;\n",
              "    }\n",
              "\n",
              "    .dataframe thead th {\n",
              "        text-align: right;\n",
              "    }\n",
              "</style>\n",
              "<table border=\"1\" class=\"dataframe\">\n",
              "  <thead>\n",
              "    <tr style=\"text-align: right;\">\n",
              "      <th></th>\n",
              "      <th>Age</th>\n",
              "    </tr>\n",
              "    <tr>\n",
              "      <th>Fraudster</th>\n",
              "      <th></th>\n",
              "    </tr>\n",
              "  </thead>\n",
              "  <tbody>\n",
              "    <tr>\n",
              "      <th>0</th>\n",
              "      <td>32.0</td>\n",
              "    </tr>\n",
              "    <tr>\n",
              "      <th>1</th>\n",
              "      <td>33.0</td>\n",
              "    </tr>\n",
              "  </tbody>\n",
              "</table>\n",
              "</div>"
            ],
            "text/plain": [
              "            Age\n",
              "Fraudster      \n",
              "0          32.0\n",
              "1          33.0"
            ]
          },
          "execution_count": 173,
          "metadata": {},
          "output_type": "execute_result"
        }
      ],
      "source": [
        "train_df[['Fraudster', 'Age']].groupby('Fraudster').median()"
      ]
    },
    {
      "cell_type": "markdown",
      "metadata": {},
      "source": [
        "### Density plot for Order value"
      ]
    },
    {
      "cell_type": "code",
      "execution_count": 174,
      "metadata": {},
      "outputs": [
        {
          "data": {
            "image/png": "[encoded data removed]",
            "text/plain": [
              "<Figure size 432x288 with 1 Axes>"
            ]
          },
          "metadata": {
            "needs_background": "light"
          },
          "output_type": "display_data"
        }
      ],
      "source": [
        "# Plotting distplot \n",
        "sns.distplot( fraud_df['Order_Value_USD'], kde = True, color ='red', bins = 30)\n",
        "sns.distplot( notfraud_df['Order_Value_USD'], kde = True, color ='blue', bins = 30)\n",
        "plt.title('Density Plot for Order_Value_USD');"
      ]
    },
    {
      "cell_type": "code",
      "execution_count": 175,
      "metadata": {},
      "outputs": [
        {
          "data": {
            "text/html": [
              "<div>\n",
              "<style scoped>\n",
              "    .dataframe tbody tr th:only-of-type {\n",
              "        vertical-align: middle;\n",
              "    }\n",
              "\n",
              "    .dataframe tbody tr th {\n",
              "        vertical-align: top;\n",
              "    }\n",
              "\n",
              "    .dataframe thead th {\n",
              "        text-align: right;\n",
              "    }\n",
              "</style>\n",
              "<table border=\"1\" class=\"dataframe\">\n",
              "  <thead>\n",
              "    <tr style=\"text-align: right;\">\n",
              "      <th></th>\n",
              "      <th>Order_Value_USD</th>\n",
              "    </tr>\n",
              "    <tr>\n",
              "      <th>Fraudster</th>\n",
              "      <th></th>\n",
              "    </tr>\n",
              "  </thead>\n",
              "  <tbody>\n",
              "    <tr>\n",
              "      <th>0</th>\n",
              "      <td>88.0</td>\n",
              "    </tr>\n",
              "    <tr>\n",
              "      <th>1</th>\n",
              "      <td>88.0</td>\n",
              "    </tr>\n",
              "  </tbody>\n",
              "</table>\n",
              "</div>"
            ],
            "text/plain": [
              "           Order_Value_USD\n",
              "Fraudster                 \n",
              "0                     88.0\n",
              "1                     88.0"
            ]
          },
          "execution_count": 175,
          "metadata": {},
          "output_type": "execute_result"
        }
      ],
      "source": [
        "train_df[['Fraudster', 'Order_Value_USD']].groupby('Fraudster').median()"
      ]
    }
  ],
  "metadata": {
    "colab": {
      "authorship_tag": "ABX9TyO4chQTQ8rtuo8mgzNB7aek",
      "include_colab_link": true,
      "mount_file_id": "1lcQi9N-sFPxsCcXSrEXMsQKIaRuUv9n1",
      "provenance": []
    },
    "kernelspec": {
      "display_name": "Python 3.10.4",
      "language": "python",
      "name": "python3"
    },
    "language_info": {
      "codemirror_mode": {
        "name": "ipython",
        "version": 3
      },
      "file_extension": ".py",
      "mimetype": "text/x-python",
      "name": "python",
      "nbconvert_exporter": "python",
      "pygments_lexer": "ipython3",
      "version": "3.10.4"
    },
    "vscode": {
      "interpreter": {
        "hash": "d08927e915d4f43d8931ef26bee7f440659801ae4dfca14c49408c6df3e10901"
      }
    }
  },
  "nbformat": 4,
  "nbformat_minor": 0
}
